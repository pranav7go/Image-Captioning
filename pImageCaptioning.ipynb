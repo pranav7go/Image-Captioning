{
  "nbformat": 4,
  "nbformat_minor": 0,
  "metadata": {
    "colab": {
      "name": "pImageCaptioning.ipynb",
      "provenance": [],
      "collapsed_sections": []
    },
    "kernelspec": {
      "name": "python3",
      "display_name": "Python 3"
    },
    "accelerator": "GPU"
  },
  "cells": [
    {
      "cell_type": "code",
      "metadata": {
        "id": "yQtb50-5Ee-j",
        "colab_type": "code",
        "colab": {}
      },
      "source": [
        "import numpy as np\n",
        "import matplotlib.pyplot as plt\n",
        "from keras.models import Model, load_model\n",
        "from keras.preprocessing import image\n",
        "import time\n",
        "import pickle\n",
        "from keras.preprocessing.sequence import pad_sequences\n",
        "from keras.utils import to_categorical\n",
        "from keras.layers import *"
      ],
      "execution_count": null,
      "outputs": []
    },
    {
      "cell_type": "code",
      "metadata": {
        "id": "SBEkLm0CEfkS",
        "colab_type": "code",
        "colab": {
          "base_uri": "https://localhost:8080/",
          "height": 124
        },
        "outputId": "c44a65be-e467-46fd-fe55-2a08db54b7f4"
      },
      "source": [
        "from google.colab import drive\n",
        "drive.mount('/content/drive')"
      ],
      "execution_count": null,
      "outputs": [
        {
          "output_type": "stream",
          "text": [
            "Go to this URL in a browser: https://accounts.google.com/o/oauth2/auth?client_id=947318989803-6bn6qk8qdgf4n4g3pfee6491hc0brc4i.apps.googleusercontent.com&redirect_uri=urn%3aietf%3awg%3aoauth%3a2.0%3aoob&scope=email%20https%3a%2f%2fwww.googleapis.com%2fauth%2fdocs.test%20https%3a%2f%2fwww.googleapis.com%2fauth%2fdrive%20https%3a%2f%2fwww.googleapis.com%2fauth%2fdrive.photos.readonly%20https%3a%2f%2fwww.googleapis.com%2fauth%2fpeopleapi.readonly&response_type=code\n",
            "\n",
            "Enter your authorization code:\n",
            "··········\n",
            "Mounted at /content/drive\n"
          ],
          "name": "stdout"
        }
      ]
    },
    {
      "cell_type": "code",
      "metadata": {
        "id": "iABNljtrFLDC",
        "colab_type": "code",
        "colab": {}
      },
      "source": [
        "import pandas as pd\n",
        "dataset = pd.read_csv('/content/drive/My Drive/AI/Projects/Image captioning/Dataset/FlickrText/New folder/Flickr8k.token.txt',delimiter='\\t',header=None)\n"
      ],
      "execution_count": null,
      "outputs": []
    },
    {
      "cell_type": "code",
      "metadata": {
        "id": "PhJeca5pFLFm",
        "colab_type": "code",
        "colab": {
          "base_uri": "https://localhost:8080/",
          "height": 35
        },
        "outputId": "bea16b1f-331b-4e30-8b8a-af21c2c3c2a3"
      },
      "source": [
        "print(dataset.shape)"
      ],
      "execution_count": null,
      "outputs": [
        {
          "output_type": "stream",
          "text": [
            "(40460, 2)\n"
          ],
          "name": "stdout"
        }
      ]
    },
    {
      "cell_type": "code",
      "metadata": {
        "id": "7e2vNMdCFLH_",
        "colab_type": "code",
        "colab": {
          "base_uri": "https://localhost:8080/",
          "height": 202
        },
        "outputId": "3285152c-6400-4a69-9d77-a75556a1fee5"
      },
      "source": [
        "dataset.head()"
      ],
      "execution_count": null,
      "outputs": [
        {
          "output_type": "execute_result",
          "data": {
            "text/html": [
              "<div>\n",
              "<style scoped>\n",
              "    .dataframe tbody tr th:only-of-type {\n",
              "        vertical-align: middle;\n",
              "    }\n",
              "\n",
              "    .dataframe tbody tr th {\n",
              "        vertical-align: top;\n",
              "    }\n",
              "\n",
              "    .dataframe thead th {\n",
              "        text-align: right;\n",
              "    }\n",
              "</style>\n",
              "<table border=\"1\" class=\"dataframe\">\n",
              "  <thead>\n",
              "    <tr style=\"text-align: right;\">\n",
              "      <th></th>\n",
              "      <th>0</th>\n",
              "      <th>1</th>\n",
              "    </tr>\n",
              "  </thead>\n",
              "  <tbody>\n",
              "    <tr>\n",
              "      <th>0</th>\n",
              "      <td>1000268201_693b08cb0e.jpg#0</td>\n",
              "      <td>A child in a pink dress is climbing up a set o...</td>\n",
              "    </tr>\n",
              "    <tr>\n",
              "      <th>1</th>\n",
              "      <td>1000268201_693b08cb0e.jpg#1</td>\n",
              "      <td>A girl going into a wooden building .</td>\n",
              "    </tr>\n",
              "    <tr>\n",
              "      <th>2</th>\n",
              "      <td>1000268201_693b08cb0e.jpg#2</td>\n",
              "      <td>A little girl climbing into a wooden playhouse .</td>\n",
              "    </tr>\n",
              "    <tr>\n",
              "      <th>3</th>\n",
              "      <td>1000268201_693b08cb0e.jpg#3</td>\n",
              "      <td>A little girl climbing the stairs to her playh...</td>\n",
              "    </tr>\n",
              "    <tr>\n",
              "      <th>4</th>\n",
              "      <td>1000268201_693b08cb0e.jpg#4</td>\n",
              "      <td>A little girl in a pink dress going into a woo...</td>\n",
              "    </tr>\n",
              "  </tbody>\n",
              "</table>\n",
              "</div>"
            ],
            "text/plain": [
              "                             0                                                  1\n",
              "0  1000268201_693b08cb0e.jpg#0  A child in a pink dress is climbing up a set o...\n",
              "1  1000268201_693b08cb0e.jpg#1              A girl going into a wooden building .\n",
              "2  1000268201_693b08cb0e.jpg#2   A little girl climbing into a wooden playhouse .\n",
              "3  1000268201_693b08cb0e.jpg#3  A little girl climbing the stairs to her playh...\n",
              "4  1000268201_693b08cb0e.jpg#4  A little girl in a pink dress going into a woo..."
            ]
          },
          "metadata": {
            "tags": []
          },
          "execution_count": 5
        }
      ]
    },
    {
      "cell_type": "code",
      "metadata": {
        "id": "fBBkqlG-lmnv",
        "colab_type": "code",
        "colab": {
          "base_uri": "https://localhost:8080/",
          "height": 52
        },
        "outputId": "e79df849-9e09-40ce-f8e2-4636ecb77a93"
      },
      "source": [
        "print(dataset[0][3])\n",
        "print(dataset[1][3])"
      ],
      "execution_count": null,
      "outputs": [
        {
          "output_type": "stream",
          "text": [
            "1000268201_693b08cb0e.jpg#3\n",
            "A little girl climbing the stairs to her playhouse .\n"
          ],
          "name": "stdout"
        }
      ]
    },
    {
      "cell_type": "code",
      "metadata": {
        "id": "nf35mMWRFLKi",
        "colab_type": "code",
        "colab": {
          "base_uri": "https://localhost:8080/",
          "height": 52
        },
        "outputId": "66467b4c-34a1-4c8b-9fa3-df12df372475"
      },
      "source": [
        "import re\n",
        "import nltk\n",
        "\n",
        "\n",
        "corpus = []\n",
        "for i in range(0, dataset.shape[0]):\n",
        "    cap = re.sub('[^a-zA-Z]', ' ', dataset[1][i])  #Removed all other characters except alphabets\n",
        "    cap = cap.lower()                              #Converted to lower case\n",
        "    cap = cap.split()                               \n",
        "    cap=[word for word in cap if len(word)>1]      #Removed single letter words\n",
        "    cap = ' '.join(cap)                            # Joined with spaces\n",
        "    cap= '<startseq> '+cap+' <endseq>'\n",
        "    corpus.append(cap)                             #list of captions"
      ],
      "execution_count": null,
      "outputs": [
        {
          "output_type": "stream",
          "text": [
            "[nltk_data] Downloading package stopwords to /root/nltk_data...\n",
            "[nltk_data]   Unzipping corpora/stopwords.zip.\n"
          ],
          "name": "stdout"
        }
      ]
    },
    {
      "cell_type": "code",
      "metadata": {
        "id": "T6vcjRNsFLO9",
        "colab_type": "code",
        "colab": {
          "base_uri": "https://localhost:8080/",
          "height": 901
        },
        "outputId": "b6ba9578-d5fc-4eab-fb4c-4103b68d30b8"
      },
      "source": [
        "for i in range(50): print(corpus[i:i+1])\n",
        "print(len(corpus))"
      ],
      "execution_count": null,
      "outputs": [
        {
          "output_type": "stream",
          "text": [
            "['<startseq> child in pink dress is climbing up set of stairs in an entry way <endseq>']\n",
            "['<startseq> girl going into wooden building <endseq>']\n",
            "['<startseq> little girl climbing into wooden playhouse <endseq>']\n",
            "['<startseq> little girl climbing the stairs to her playhouse <endseq>']\n",
            "['<startseq> little girl in pink dress going into wooden cabin <endseq>']\n",
            "['<startseq> black dog and spotted dog are fighting <endseq>']\n",
            "['<startseq> black dog and tri colored dog playing with each other on the road <endseq>']\n",
            "['<startseq> black dog and white dog with brown spots are staring at each other in the street <endseq>']\n",
            "['<startseq> two dogs of different breeds looking at each other on the road <endseq>']\n",
            "['<startseq> two dogs on pavement moving toward each other <endseq>']\n",
            "['<startseq> little girl covered in paint sits in front of painted rainbow with her hands in bowl <endseq>']\n",
            "['<startseq> little girl is sitting in front of large painted rainbow <endseq>']\n",
            "['<startseq> small girl in the grass plays with fingerpaints in front of white canvas with rainbow on it <endseq>']\n",
            "['<startseq> there is girl with pigtails sitting in front of rainbow painting <endseq>']\n",
            "['<startseq> young girl with pigtails painting outside in the grass <endseq>']\n",
            "['<startseq> man lays on bench while his dog sits by him <endseq>']\n",
            "['<startseq> man lays on the bench to which white dog is also tied <endseq>']\n",
            "['<startseq> man sleeping on bench outside with white and black dog sitting next to him <endseq>']\n",
            "['<startseq> shirtless man lies on park bench with his dog <endseq>']\n",
            "['<startseq> man laying on bench holding leash of dog sitting on ground <endseq>']\n",
            "['<startseq> man in an orange hat starring at something <endseq>']\n",
            "['<startseq> man wears an orange hat and glasses <endseq>']\n",
            "['<startseq> man with gauges and glasses is wearing blitz hat <endseq>']\n",
            "['<startseq> man with glasses is wearing beer can crocheted hat <endseq>']\n",
            "['<startseq> the man with pierced ears is wearing glasses and an orange hat <endseq>']\n",
            "['<startseq> child playing on rope net <endseq>']\n",
            "['<startseq> little girl climbing on red roping <endseq>']\n",
            "['<startseq> little girl in pink climbs rope bridge at the park <endseq>']\n",
            "['<startseq> small child grips onto the red ropes at the playground <endseq>']\n",
            "['<startseq> the small child climbs on red ropes on playground <endseq>']\n",
            "['<startseq> black and white dog is running in grassy garden surrounded by white fence <endseq>']\n",
            "['<startseq> black and white dog is running through the grass <endseq>']\n",
            "['<startseq> boston terrier is running in the grass <endseq>']\n",
            "['<startseq> boston terrier is running on lush green grass in front of white fence <endseq>']\n",
            "['<startseq> dog runs on the green grass near wooden fence <endseq>']\n",
            "['<startseq> dog shakes its head near the shore red ball next to it <endseq>']\n",
            "['<startseq> white dog shakes on the edge of beach with an orange ball <endseq>']\n",
            "['<startseq> dog with orange ball at feet stands on shore shaking off water <endseq>']\n",
            "['<startseq> white dog playing with red ball on the shore near the water <endseq>']\n",
            "['<startseq> white dog with brown ears standing near water with head turned to one side <endseq>']\n",
            "['<startseq> boy smiles in front of stony wall in city <endseq>']\n",
            "['<startseq> little boy is standing on the street while man in overalls is working on stone wall <endseq>']\n",
            "['<startseq> young boy runs aross the street <endseq>']\n",
            "['<startseq> young child is walking on stone paved street with metal pole and man behind him <endseq>']\n",
            "['<startseq> smiling boy in white shirt and blue jeans in front of rock wall with man in overalls behind him <endseq>']\n",
            "['<startseq> black dog leaps over log <endseq>']\n",
            "['<startseq> grey dog is leaping over fallen tree <endseq>']\n",
            "['<startseq> large black dog leaps fallen log <endseq>']\n",
            "['<startseq> mottled black and grey dog in blue collar jumping over fallen tree <endseq>']\n",
            "['<startseq> the black dog jumped the tree stump <endseq>']\n",
            "40460\n"
          ],
          "name": "stdout"
        }
      ]
    },
    {
      "cell_type": "code",
      "metadata": {
        "id": "27she8ByFLWF",
        "colab_type": "code",
        "colab": {}
      },
      "source": [
        "i=0\n",
        "while i < dataset.shape[0]:\n",
        "  dataset[0][i]=dataset[0][i].split('.')[0]        #Removed characters after '.'\n",
        "  i=i+1"
      ],
      "execution_count": null,
      "outputs": []
    },
    {
      "cell_type": "code",
      "metadata": {
        "id": "g_6nWwmdFLZb",
        "colab_type": "code",
        "colab": {
          "base_uri": "https://localhost:8080/",
          "height": 260
        },
        "outputId": "8718b363-dd81-4311-a3bc-3fdcca340b28"
      },
      "source": [
        "print(dataset.head)"
      ],
      "execution_count": null,
      "outputs": [
        {
          "output_type": "stream",
          "text": [
            "<bound method NDFrame.head of                            0                                                  1\n",
            "0      1000268201_693b08cb0e  A child in a pink dress is climbing up a set o...\n",
            "1      1000268201_693b08cb0e              A girl going into a wooden building .\n",
            "2      1000268201_693b08cb0e   A little girl climbing into a wooden playhouse .\n",
            "3      1000268201_693b08cb0e  A little girl climbing the stairs to her playh...\n",
            "4      1000268201_693b08cb0e  A little girl in a pink dress going into a woo...\n",
            "...                      ...                                                ...\n",
            "40455   997722733_0cb5439472           A man in a pink shirt climbs a rock face\n",
            "40456   997722733_0cb5439472           A man is rock climbing high in the air .\n",
            "40457   997722733_0cb5439472  A person in a red shirt climbing up a rock fac...\n",
            "40458   997722733_0cb5439472                    A rock climber in a red shirt .\n",
            "40459   997722733_0cb5439472  A rock climber practices on a rock climbing wa...\n",
            "\n",
            "[40460 rows x 2 columns]>\n"
          ],
          "name": "stdout"
        }
      ]
    },
    {
      "cell_type": "code",
      "metadata": {
        "id": "7-04iRQeb4W6",
        "colab_type": "code",
        "colab": {
          "base_uri": "https://localhost:8080/",
          "height": 35
        },
        "outputId": "f4f9cd8e-7c9f-4544-987f-5696eb87d253"
      },
      "source": [
        "type(dataset)"
      ],
      "execution_count": null,
      "outputs": [
        {
          "output_type": "execute_result",
          "data": {
            "text/plain": [
              "pandas.core.frame.DataFrame"
            ]
          },
          "metadata": {
            "tags": []
          },
          "execution_count": 11
        }
      ]
    },
    {
      "cell_type": "code",
      "metadata": {
        "id": "kVsDEZVpFLUa",
        "colab_type": "code",
        "colab": {}
      },
      "source": [
        "from collections import defaultdict\n",
        "new_dict= defaultdict(lambda : [])          #Created a dictionary with image ids as key and captions as value\n",
        "i=0\n",
        "while i <len(corpus):\n",
        "  # print(dataset[0][i])\n",
        "  new_dict[dataset[0][i]].append(corpus[i])\n",
        "  i=i+1                                                     "
      ],
      "execution_count": null,
      "outputs": []
    },
    {
      "cell_type": "code",
      "metadata": {
        "id": "TzOFJLTwFLS8",
        "colab_type": "code",
        "colab": {
          "base_uri": "https://localhost:8080/",
          "height": 35
        },
        "outputId": "7165ad01-6e83-4055-f4c5-8fd45c528e37"
      },
      "source": [
        "print(len(new_dict))"
      ],
      "execution_count": null,
      "outputs": [
        {
          "output_type": "stream",
          "text": [
            "8092\n"
          ],
          "name": "stdout"
        }
      ]
    },
    {
      "cell_type": "code",
      "metadata": {
        "id": "Yiq86iLDFLNT",
        "colab_type": "code",
        "colab": {
          "base_uri": "https://localhost:8080/",
          "height": 55
        },
        "outputId": "2a814c61-a16a-4f81-b97b-c624ade1409e"
      },
      "source": [
        "print(new_dict['2513260012_03d33305cf'])"
      ],
      "execution_count": null,
      "outputs": [
        {
          "output_type": "stream",
          "text": [
            "['<startseq> black dog is running after white dog in the snow <endseq>', '<startseq> black dog chasing brown dog through snow <endseq>', '<startseq> two dogs chase each other across the snowy ground <endseq>', '<startseq> two dogs play together in the snow <endseq>', '<startseq> two dogs running through low lying body of water <endseq>']\n"
          ],
          "name": "stdout"
        }
      ]
    },
    {
      "cell_type": "code",
      "metadata": {
        "id": "IwmWi4a1GSxD",
        "colab_type": "code",
        "colab": {}
      },
      "source": [
        "all_vocab = []              #A list of all the words in the captions\n",
        "\n",
        "for key in new_dict.keys():\n",
        "    [ all_vocab.append(i) for des in new_dict[key] for i in des.split()]"
      ],
      "execution_count": null,
      "outputs": []
    },
    {
      "cell_type": "code",
      "metadata": {
        "id": "e34Gq7V4GS1Z",
        "colab_type": "code",
        "colab": {
          "base_uri": "https://localhost:8080/",
          "height": 35
        },
        "outputId": "83278cf8-6342-4dd3-f4b8-0e23897c289e"
      },
      "source": [
        "print(\"total words appearing : \" , len(all_vocab))"
      ],
      "execution_count": null,
      "outputs": [
        {
          "output_type": "stream",
          "text": [
            "total words appearing :  454757\n"
          ],
          "name": "stdout"
        }
      ]
    },
    {
      "cell_type": "code",
      "metadata": {
        "id": "HOvzk54BGS-t",
        "colab_type": "code",
        "colab": {}
      },
      "source": [
        "from collections import Counter\n",
        "\n",
        "counter = Counter(all_vocab)"
      ],
      "execution_count": null,
      "outputs": []
    },
    {
      "cell_type": "code",
      "metadata": {
        "id": "9iNdTlfjGS8h",
        "colab_type": "code",
        "colab": {}
      },
      "source": [
        "dic_ = dict(counter)"
      ],
      "execution_count": null,
      "outputs": []
    },
    {
      "cell_type": "code",
      "metadata": {
        "id": "k8ilZ0w_GS59",
        "colab_type": "code",
        "colab": {}
      },
      "source": [
        "sorted_dic = sorted(dic_.items(), key = lambda x: x[1], reverse=True)   #List with words and their corresponding frequency"
      ],
      "execution_count": null,
      "outputs": []
    },
    {
      "cell_type": "code",
      "metadata": {
        "id": "cZhk3XY1Algo",
        "colab_type": "code",
        "colab": {
          "base_uri": "https://localhost:8080/",
          "height": 35
        },
        "outputId": "4a01f843-e898-4579-a1e2-49ca5ce68e4a"
      },
      "source": [
        "print(len(sorted_dic))"
      ],
      "execution_count": null,
      "outputs": [
        {
          "output_type": "stream",
          "text": [
            "8426\n"
          ],
          "name": "stdout"
        }
      ]
    },
    {
      "cell_type": "code",
      "metadata": {
        "id": "mIOEfylD95X5",
        "colab_type": "code",
        "colab": {}
      },
      "source": [
        "\n",
        "for i in range(len(sorted_dic)):print(sorted_dic[i]) "
      ],
      "execution_count": null,
      "outputs": []
    },
    {
      "cell_type": "code",
      "metadata": {
        "id": "HaIwH8cDGSuW",
        "colab_type": "code",
        "colab": {}
      },
      "source": [
        "threshold_value = 10\n",
        "\n",
        "d = [(x) for x in sorted_dic if x[1]>threshold_value]"
      ],
      "execution_count": null,
      "outputs": []
    },
    {
      "cell_type": "code",
      "metadata": {
        "id": "IJWRFlimFLAe",
        "colab_type": "code",
        "colab": {
          "base_uri": "https://localhost:8080/",
          "height": 35
        },
        "outputId": "80672cb9-0646-473b-d923-62ba223ff312"
      },
      "source": [
        "len(d)"
      ],
      "execution_count": null,
      "outputs": [
        {
          "output_type": "execute_result",
          "data": {
            "text/plain": [
              "1847"
            ]
          },
          "metadata": {
            "tags": []
          },
          "execution_count": 26
        }
      ]
    },
    {
      "cell_type": "code",
      "metadata": {
        "id": "uvYKzykjGuox",
        "colab_type": "code",
        "colab": {}
      },
      "source": [
        "all_vocab = [x[0] for x in d]                       #Updating all_vocab"
      ],
      "execution_count": null,
      "outputs": []
    },
    {
      "cell_type": "code",
      "metadata": {
        "id": "V1KhOnusGusJ",
        "colab_type": "code",
        "colab": {
          "base_uri": "https://localhost:8080/",
          "height": 35
        },
        "outputId": "569470c4-8d1e-4230-aecf-41dc0b6b2eec"
      },
      "source": [
        "len(all_vocab)"
      ],
      "execution_count": null,
      "outputs": [
        {
          "output_type": "execute_result",
          "data": {
            "text/plain": [
              "1847"
            ]
          },
          "metadata": {
            "tags": []
          },
          "execution_count": 36
        }
      ]
    },
    {
      "cell_type": "code",
      "metadata": {
        "id": "xTgbzIVRG7M5",
        "colab_type": "code",
        "colab": {}
      },
      "source": [
        "f = open('new_dict.txt', 'w')\n",
        "f.write(str(new_dict))\n",
        "f.close()"
      ],
      "execution_count": null,
      "outputs": []
    },
    {
      "cell_type": "code",
      "metadata": {
        "id": "whgM-r9NG7Rr",
        "colab_type": "code",
        "colab": {}
      },
      "source": [
        "with open('/content/drive/My Drive/AI/Projects/Image captioning/Dataset/FlickrText/New folder/Flickr_8k.trainImages.txt') as f:\n",
        "  train=f.read()"
      ],
      "execution_count": null,
      "outputs": []
    },
    {
      "cell_type": "code",
      "metadata": {
        "id": "xdHWJvxKLDY7",
        "colab_type": "code",
        "colab": {}
      },
      "source": [
        "print(train)"
      ],
      "execution_count": null,
      "outputs": []
    },
    {
      "cell_type": "code",
      "metadata": {
        "id": "V1SdEc8DG7WP",
        "colab_type": "code",
        "colab": {}
      },
      "source": [
        "train = [e[:-4] for e in train.split('\\n')[:-1]]                                #train image ids"
      ],
      "execution_count": null,
      "outputs": []
    },
    {
      "cell_type": "code",
      "metadata": {
        "id": "z8eukcB6LOFV",
        "colab_type": "code",
        "colab": {}
      },
      "source": [
        "print(train)"
      ],
      "execution_count": null,
      "outputs": []
    },
    {
      "cell_type": "code",
      "metadata": {
        "id": "jA3ZkkzpG7QW",
        "colab_type": "code",
        "colab": {}
      },
      "source": [
        "with open('/content/drive/My Drive/AI/Projects/Image captioning/Dataset/FlickrText/New folder/Flickr_8k.testImages.txt')as f:\n",
        "  test=f.read()"
      ],
      "execution_count": null,
      "outputs": []
    },
    {
      "cell_type": "code",
      "metadata": {
        "id": "-sQ3KnoZG7Ku",
        "colab_type": "code",
        "colab": {}
      },
      "source": [
        "test = [e[:-4] for e in test.split('\\n')[:-1]]                                    #test image ids"
      ],
      "execution_count": null,
      "outputs": []
    },
    {
      "cell_type": "code",
      "metadata": {
        "id": "XPr_iAJpIA77",
        "colab_type": "code",
        "colab": {}
      },
      "source": [
        "train_descriptions = {}                                                           #dictionary with keys as image ids and values as corresponding captions\n",
        "for t in train:\n",
        "    train_descriptions[t] = []\n",
        "    for cap in new_dict[t]:\n",
        "        train_descriptions[t].append(cap)"
      ],
      "execution_count": null,
      "outputs": []
    },
    {
      "cell_type": "code",
      "metadata": {
        "id": "9LX_1VzwIFXS",
        "colab_type": "code",
        "colab": {}
      },
      "source": [
        "i=0\n",
        "for keys,values in train_descriptions.items():\n",
        " i=i+1\n",
        " \n",
        " print(keys)\n",
        " print(values)\n",
        " if i>50:break"
      ],
      "execution_count": null,
      "outputs": []
    },
    {
      "cell_type": "markdown",
      "metadata": {
        "id": "m3kMSRZ9IL9Z",
        "colab_type": "text"
      },
      "source": [
        "Data Preprocessing- Images"
      ]
    },
    {
      "cell_type": "code",
      "metadata": {
        "id": "sJtqJS1kIFaU",
        "colab_type": "code",
        "colab": {}
      },
      "source": [
        "from keras.applications.resnet50 import ResNet50, preprocess_input"
      ],
      "execution_count": null,
      "outputs": []
    },
    {
      "cell_type": "code",
      "metadata": {
        "id": "pbtmFjtdIFe-",
        "colab_type": "code",
        "colab": {
          "base_uri": "https://localhost:8080/",
          "height": 52
        },
        "outputId": "68eb29ef-89bf-481e-ac7d-b1c333460c83"
      },
      "source": [
        "model = ResNet50(weights = 'imagenet', input_shape = (224,224,3))"
      ],
      "execution_count": null,
      "outputs": [
        {
          "output_type": "stream",
          "text": [
            "Downloading data from https://storage.googleapis.com/tensorflow/keras-applications/resnet/resnet50_weights_tf_dim_ordering_tf_kernels.h5\n",
            "102973440/102967424 [==============================] - 1s 0us/step\n"
          ],
          "name": "stdout"
        }
      ]
    },
    {
      "cell_type": "code",
      "metadata": {
        "id": "FlDfHR_rIFlq",
        "colab_type": "code",
        "colab": {
          "base_uri": "https://localhost:8080/",
          "height": 1000
        },
        "outputId": "82381bce-f0a7-46f9-96cb-7df69e3170a8"
      },
      "source": [
        "model.summary()"
      ],
      "execution_count": null,
      "outputs": [
        {
          "output_type": "stream",
          "text": [
            "Model: \"resnet50\"\n",
            "__________________________________________________________________________________________________\n",
            "Layer (type)                    Output Shape         Param #     Connected to                     \n",
            "==================================================================================================\n",
            "input_1 (InputLayer)            [(None, 224, 224, 3) 0                                            \n",
            "__________________________________________________________________________________________________\n",
            "conv1_pad (ZeroPadding2D)       (None, 230, 230, 3)  0           input_1[0][0]                    \n",
            "__________________________________________________________________________________________________\n",
            "conv1_conv (Conv2D)             (None, 112, 112, 64) 9472        conv1_pad[0][0]                  \n",
            "__________________________________________________________________________________________________\n",
            "conv1_bn (BatchNormalization)   (None, 112, 112, 64) 256         conv1_conv[0][0]                 \n",
            "__________________________________________________________________________________________________\n",
            "conv1_relu (Activation)         (None, 112, 112, 64) 0           conv1_bn[0][0]                   \n",
            "__________________________________________________________________________________________________\n",
            "pool1_pad (ZeroPadding2D)       (None, 114, 114, 64) 0           conv1_relu[0][0]                 \n",
            "__________________________________________________________________________________________________\n",
            "pool1_pool (MaxPooling2D)       (None, 56, 56, 64)   0           pool1_pad[0][0]                  \n",
            "__________________________________________________________________________________________________\n",
            "conv2_block1_1_conv (Conv2D)    (None, 56, 56, 64)   4160        pool1_pool[0][0]                 \n",
            "__________________________________________________________________________________________________\n",
            "conv2_block1_1_bn (BatchNormali (None, 56, 56, 64)   256         conv2_block1_1_conv[0][0]        \n",
            "__________________________________________________________________________________________________\n",
            "conv2_block1_1_relu (Activation (None, 56, 56, 64)   0           conv2_block1_1_bn[0][0]          \n",
            "__________________________________________________________________________________________________\n",
            "conv2_block1_2_conv (Conv2D)    (None, 56, 56, 64)   36928       conv2_block1_1_relu[0][0]        \n",
            "__________________________________________________________________________________________________\n",
            "conv2_block1_2_bn (BatchNormali (None, 56, 56, 64)   256         conv2_block1_2_conv[0][0]        \n",
            "__________________________________________________________________________________________________\n",
            "conv2_block1_2_relu (Activation (None, 56, 56, 64)   0           conv2_block1_2_bn[0][0]          \n",
            "__________________________________________________________________________________________________\n",
            "conv2_block1_0_conv (Conv2D)    (None, 56, 56, 256)  16640       pool1_pool[0][0]                 \n",
            "__________________________________________________________________________________________________\n",
            "conv2_block1_3_conv (Conv2D)    (None, 56, 56, 256)  16640       conv2_block1_2_relu[0][0]        \n",
            "__________________________________________________________________________________________________\n",
            "conv2_block1_0_bn (BatchNormali (None, 56, 56, 256)  1024        conv2_block1_0_conv[0][0]        \n",
            "__________________________________________________________________________________________________\n",
            "conv2_block1_3_bn (BatchNormali (None, 56, 56, 256)  1024        conv2_block1_3_conv[0][0]        \n",
            "__________________________________________________________________________________________________\n",
            "conv2_block1_add (Add)          (None, 56, 56, 256)  0           conv2_block1_0_bn[0][0]          \n",
            "                                                                 conv2_block1_3_bn[0][0]          \n",
            "__________________________________________________________________________________________________\n",
            "conv2_block1_out (Activation)   (None, 56, 56, 256)  0           conv2_block1_add[0][0]           \n",
            "__________________________________________________________________________________________________\n",
            "conv2_block2_1_conv (Conv2D)    (None, 56, 56, 64)   16448       conv2_block1_out[0][0]           \n",
            "__________________________________________________________________________________________________\n",
            "conv2_block2_1_bn (BatchNormali (None, 56, 56, 64)   256         conv2_block2_1_conv[0][0]        \n",
            "__________________________________________________________________________________________________\n",
            "conv2_block2_1_relu (Activation (None, 56, 56, 64)   0           conv2_block2_1_bn[0][0]          \n",
            "__________________________________________________________________________________________________\n",
            "conv2_block2_2_conv (Conv2D)    (None, 56, 56, 64)   36928       conv2_block2_1_relu[0][0]        \n",
            "__________________________________________________________________________________________________\n",
            "conv2_block2_2_bn (BatchNormali (None, 56, 56, 64)   256         conv2_block2_2_conv[0][0]        \n",
            "__________________________________________________________________________________________________\n",
            "conv2_block2_2_relu (Activation (None, 56, 56, 64)   0           conv2_block2_2_bn[0][0]          \n",
            "__________________________________________________________________________________________________\n",
            "conv2_block2_3_conv (Conv2D)    (None, 56, 56, 256)  16640       conv2_block2_2_relu[0][0]        \n",
            "__________________________________________________________________________________________________\n",
            "conv2_block2_3_bn (BatchNormali (None, 56, 56, 256)  1024        conv2_block2_3_conv[0][0]        \n",
            "__________________________________________________________________________________________________\n",
            "conv2_block2_add (Add)          (None, 56, 56, 256)  0           conv2_block1_out[0][0]           \n",
            "                                                                 conv2_block2_3_bn[0][0]          \n",
            "__________________________________________________________________________________________________\n",
            "conv2_block2_out (Activation)   (None, 56, 56, 256)  0           conv2_block2_add[0][0]           \n",
            "__________________________________________________________________________________________________\n",
            "conv2_block3_1_conv (Conv2D)    (None, 56, 56, 64)   16448       conv2_block2_out[0][0]           \n",
            "__________________________________________________________________________________________________\n",
            "conv2_block3_1_bn (BatchNormali (None, 56, 56, 64)   256         conv2_block3_1_conv[0][0]        \n",
            "__________________________________________________________________________________________________\n",
            "conv2_block3_1_relu (Activation (None, 56, 56, 64)   0           conv2_block3_1_bn[0][0]          \n",
            "__________________________________________________________________________________________________\n",
            "conv2_block3_2_conv (Conv2D)    (None, 56, 56, 64)   36928       conv2_block3_1_relu[0][0]        \n",
            "__________________________________________________________________________________________________\n",
            "conv2_block3_2_bn (BatchNormali (None, 56, 56, 64)   256         conv2_block3_2_conv[0][0]        \n",
            "__________________________________________________________________________________________________\n",
            "conv2_block3_2_relu (Activation (None, 56, 56, 64)   0           conv2_block3_2_bn[0][0]          \n",
            "__________________________________________________________________________________________________\n",
            "conv2_block3_3_conv (Conv2D)    (None, 56, 56, 256)  16640       conv2_block3_2_relu[0][0]        \n",
            "__________________________________________________________________________________________________\n",
            "conv2_block3_3_bn (BatchNormali (None, 56, 56, 256)  1024        conv2_block3_3_conv[0][0]        \n",
            "__________________________________________________________________________________________________\n",
            "conv2_block3_add (Add)          (None, 56, 56, 256)  0           conv2_block2_out[0][0]           \n",
            "                                                                 conv2_block3_3_bn[0][0]          \n",
            "__________________________________________________________________________________________________\n",
            "conv2_block3_out (Activation)   (None, 56, 56, 256)  0           conv2_block3_add[0][0]           \n",
            "__________________________________________________________________________________________________\n",
            "conv3_block1_1_conv (Conv2D)    (None, 28, 28, 128)  32896       conv2_block3_out[0][0]           \n",
            "__________________________________________________________________________________________________\n",
            "conv3_block1_1_bn (BatchNormali (None, 28, 28, 128)  512         conv3_block1_1_conv[0][0]        \n",
            "__________________________________________________________________________________________________\n",
            "conv3_block1_1_relu (Activation (None, 28, 28, 128)  0           conv3_block1_1_bn[0][0]          \n",
            "__________________________________________________________________________________________________\n",
            "conv3_block1_2_conv (Conv2D)    (None, 28, 28, 128)  147584      conv3_block1_1_relu[0][0]        \n",
            "__________________________________________________________________________________________________\n",
            "conv3_block1_2_bn (BatchNormali (None, 28, 28, 128)  512         conv3_block1_2_conv[0][0]        \n",
            "__________________________________________________________________________________________________\n",
            "conv3_block1_2_relu (Activation (None, 28, 28, 128)  0           conv3_block1_2_bn[0][0]          \n",
            "__________________________________________________________________________________________________\n",
            "conv3_block1_0_conv (Conv2D)    (None, 28, 28, 512)  131584      conv2_block3_out[0][0]           \n",
            "__________________________________________________________________________________________________\n",
            "conv3_block1_3_conv (Conv2D)    (None, 28, 28, 512)  66048       conv3_block1_2_relu[0][0]        \n",
            "__________________________________________________________________________________________________\n",
            "conv3_block1_0_bn (BatchNormali (None, 28, 28, 512)  2048        conv3_block1_0_conv[0][0]        \n",
            "__________________________________________________________________________________________________\n",
            "conv3_block1_3_bn (BatchNormali (None, 28, 28, 512)  2048        conv3_block1_3_conv[0][0]        \n",
            "__________________________________________________________________________________________________\n",
            "conv3_block1_add (Add)          (None, 28, 28, 512)  0           conv3_block1_0_bn[0][0]          \n",
            "                                                                 conv3_block1_3_bn[0][0]          \n",
            "__________________________________________________________________________________________________\n",
            "conv3_block1_out (Activation)   (None, 28, 28, 512)  0           conv3_block1_add[0][0]           \n",
            "__________________________________________________________________________________________________\n",
            "conv3_block2_1_conv (Conv2D)    (None, 28, 28, 128)  65664       conv3_block1_out[0][0]           \n",
            "__________________________________________________________________________________________________\n",
            "conv3_block2_1_bn (BatchNormali (None, 28, 28, 128)  512         conv3_block2_1_conv[0][0]        \n",
            "__________________________________________________________________________________________________\n",
            "conv3_block2_1_relu (Activation (None, 28, 28, 128)  0           conv3_block2_1_bn[0][0]          \n",
            "__________________________________________________________________________________________________\n",
            "conv3_block2_2_conv (Conv2D)    (None, 28, 28, 128)  147584      conv3_block2_1_relu[0][0]        \n",
            "__________________________________________________________________________________________________\n",
            "conv3_block2_2_bn (BatchNormali (None, 28, 28, 128)  512         conv3_block2_2_conv[0][0]        \n",
            "__________________________________________________________________________________________________\n",
            "conv3_block2_2_relu (Activation (None, 28, 28, 128)  0           conv3_block2_2_bn[0][0]          \n",
            "__________________________________________________________________________________________________\n",
            "conv3_block2_3_conv (Conv2D)    (None, 28, 28, 512)  66048       conv3_block2_2_relu[0][0]        \n",
            "__________________________________________________________________________________________________\n",
            "conv3_block2_3_bn (BatchNormali (None, 28, 28, 512)  2048        conv3_block2_3_conv[0][0]        \n",
            "__________________________________________________________________________________________________\n",
            "conv3_block2_add (Add)          (None, 28, 28, 512)  0           conv3_block1_out[0][0]           \n",
            "                                                                 conv3_block2_3_bn[0][0]          \n",
            "__________________________________________________________________________________________________\n",
            "conv3_block2_out (Activation)   (None, 28, 28, 512)  0           conv3_block2_add[0][0]           \n",
            "__________________________________________________________________________________________________\n",
            "conv3_block3_1_conv (Conv2D)    (None, 28, 28, 128)  65664       conv3_block2_out[0][0]           \n",
            "__________________________________________________________________________________________________\n",
            "conv3_block3_1_bn (BatchNormali (None, 28, 28, 128)  512         conv3_block3_1_conv[0][0]        \n",
            "__________________________________________________________________________________________________\n",
            "conv3_block3_1_relu (Activation (None, 28, 28, 128)  0           conv3_block3_1_bn[0][0]          \n",
            "__________________________________________________________________________________________________\n",
            "conv3_block3_2_conv (Conv2D)    (None, 28, 28, 128)  147584      conv3_block3_1_relu[0][0]        \n",
            "__________________________________________________________________________________________________\n",
            "conv3_block3_2_bn (BatchNormali (None, 28, 28, 128)  512         conv3_block3_2_conv[0][0]        \n",
            "__________________________________________________________________________________________________\n",
            "conv3_block3_2_relu (Activation (None, 28, 28, 128)  0           conv3_block3_2_bn[0][0]          \n",
            "__________________________________________________________________________________________________\n",
            "conv3_block3_3_conv (Conv2D)    (None, 28, 28, 512)  66048       conv3_block3_2_relu[0][0]        \n",
            "__________________________________________________________________________________________________\n",
            "conv3_block3_3_bn (BatchNormali (None, 28, 28, 512)  2048        conv3_block3_3_conv[0][0]        \n",
            "__________________________________________________________________________________________________\n",
            "conv3_block3_add (Add)          (None, 28, 28, 512)  0           conv3_block2_out[0][0]           \n",
            "                                                                 conv3_block3_3_bn[0][0]          \n",
            "__________________________________________________________________________________________________\n",
            "conv3_block3_out (Activation)   (None, 28, 28, 512)  0           conv3_block3_add[0][0]           \n",
            "__________________________________________________________________________________________________\n",
            "conv3_block4_1_conv (Conv2D)    (None, 28, 28, 128)  65664       conv3_block3_out[0][0]           \n",
            "__________________________________________________________________________________________________\n",
            "conv3_block4_1_bn (BatchNormali (None, 28, 28, 128)  512         conv3_block4_1_conv[0][0]        \n",
            "__________________________________________________________________________________________________\n",
            "conv3_block4_1_relu (Activation (None, 28, 28, 128)  0           conv3_block4_1_bn[0][0]          \n",
            "__________________________________________________________________________________________________\n",
            "conv3_block4_2_conv (Conv2D)    (None, 28, 28, 128)  147584      conv3_block4_1_relu[0][0]        \n",
            "__________________________________________________________________________________________________\n",
            "conv3_block4_2_bn (BatchNormali (None, 28, 28, 128)  512         conv3_block4_2_conv[0][0]        \n",
            "__________________________________________________________________________________________________\n",
            "conv3_block4_2_relu (Activation (None, 28, 28, 128)  0           conv3_block4_2_bn[0][0]          \n",
            "__________________________________________________________________________________________________\n",
            "conv3_block4_3_conv (Conv2D)    (None, 28, 28, 512)  66048       conv3_block4_2_relu[0][0]        \n",
            "__________________________________________________________________________________________________\n",
            "conv3_block4_3_bn (BatchNormali (None, 28, 28, 512)  2048        conv3_block4_3_conv[0][0]        \n",
            "__________________________________________________________________________________________________\n",
            "conv3_block4_add (Add)          (None, 28, 28, 512)  0           conv3_block3_out[0][0]           \n",
            "                                                                 conv3_block4_3_bn[0][0]          \n",
            "__________________________________________________________________________________________________\n",
            "conv3_block4_out (Activation)   (None, 28, 28, 512)  0           conv3_block4_add[0][0]           \n",
            "__________________________________________________________________________________________________\n",
            "conv4_block1_1_conv (Conv2D)    (None, 14, 14, 256)  131328      conv3_block4_out[0][0]           \n",
            "__________________________________________________________________________________________________\n",
            "conv4_block1_1_bn (BatchNormali (None, 14, 14, 256)  1024        conv4_block1_1_conv[0][0]        \n",
            "__________________________________________________________________________________________________\n",
            "conv4_block1_1_relu (Activation (None, 14, 14, 256)  0           conv4_block1_1_bn[0][0]          \n",
            "__________________________________________________________________________________________________\n",
            "conv4_block1_2_conv (Conv2D)    (None, 14, 14, 256)  590080      conv4_block1_1_relu[0][0]        \n",
            "__________________________________________________________________________________________________\n",
            "conv4_block1_2_bn (BatchNormali (None, 14, 14, 256)  1024        conv4_block1_2_conv[0][0]        \n",
            "__________________________________________________________________________________________________\n",
            "conv4_block1_2_relu (Activation (None, 14, 14, 256)  0           conv4_block1_2_bn[0][0]          \n",
            "__________________________________________________________________________________________________\n",
            "conv4_block1_0_conv (Conv2D)    (None, 14, 14, 1024) 525312      conv3_block4_out[0][0]           \n",
            "__________________________________________________________________________________________________\n",
            "conv4_block1_3_conv (Conv2D)    (None, 14, 14, 1024) 263168      conv4_block1_2_relu[0][0]        \n",
            "__________________________________________________________________________________________________\n",
            "conv4_block1_0_bn (BatchNormali (None, 14, 14, 1024) 4096        conv4_block1_0_conv[0][0]        \n",
            "__________________________________________________________________________________________________\n",
            "conv4_block1_3_bn (BatchNormali (None, 14, 14, 1024) 4096        conv4_block1_3_conv[0][0]        \n",
            "__________________________________________________________________________________________________\n",
            "conv4_block1_add (Add)          (None, 14, 14, 1024) 0           conv4_block1_0_bn[0][0]          \n",
            "                                                                 conv4_block1_3_bn[0][0]          \n",
            "__________________________________________________________________________________________________\n",
            "conv4_block1_out (Activation)   (None, 14, 14, 1024) 0           conv4_block1_add[0][0]           \n",
            "__________________________________________________________________________________________________\n",
            "conv4_block2_1_conv (Conv2D)    (None, 14, 14, 256)  262400      conv4_block1_out[0][0]           \n",
            "__________________________________________________________________________________________________\n",
            "conv4_block2_1_bn (BatchNormali (None, 14, 14, 256)  1024        conv4_block2_1_conv[0][0]        \n",
            "__________________________________________________________________________________________________\n",
            "conv4_block2_1_relu (Activation (None, 14, 14, 256)  0           conv4_block2_1_bn[0][0]          \n",
            "__________________________________________________________________________________________________\n",
            "conv4_block2_2_conv (Conv2D)    (None, 14, 14, 256)  590080      conv4_block2_1_relu[0][0]        \n",
            "__________________________________________________________________________________________________\n",
            "conv4_block2_2_bn (BatchNormali (None, 14, 14, 256)  1024        conv4_block2_2_conv[0][0]        \n",
            "__________________________________________________________________________________________________\n",
            "conv4_block2_2_relu (Activation (None, 14, 14, 256)  0           conv4_block2_2_bn[0][0]          \n",
            "__________________________________________________________________________________________________\n",
            "conv4_block2_3_conv (Conv2D)    (None, 14, 14, 1024) 263168      conv4_block2_2_relu[0][0]        \n",
            "__________________________________________________________________________________________________\n",
            "conv4_block2_3_bn (BatchNormali (None, 14, 14, 1024) 4096        conv4_block2_3_conv[0][0]        \n",
            "__________________________________________________________________________________________________\n",
            "conv4_block2_add (Add)          (None, 14, 14, 1024) 0           conv4_block1_out[0][0]           \n",
            "                                                                 conv4_block2_3_bn[0][0]          \n",
            "__________________________________________________________________________________________________\n",
            "conv4_block2_out (Activation)   (None, 14, 14, 1024) 0           conv4_block2_add[0][0]           \n",
            "__________________________________________________________________________________________________\n",
            "conv4_block3_1_conv (Conv2D)    (None, 14, 14, 256)  262400      conv4_block2_out[0][0]           \n",
            "__________________________________________________________________________________________________\n",
            "conv4_block3_1_bn (BatchNormali (None, 14, 14, 256)  1024        conv4_block3_1_conv[0][0]        \n",
            "__________________________________________________________________________________________________\n",
            "conv4_block3_1_relu (Activation (None, 14, 14, 256)  0           conv4_block3_1_bn[0][0]          \n",
            "__________________________________________________________________________________________________\n",
            "conv4_block3_2_conv (Conv2D)    (None, 14, 14, 256)  590080      conv4_block3_1_relu[0][0]        \n",
            "__________________________________________________________________________________________________\n",
            "conv4_block3_2_bn (BatchNormali (None, 14, 14, 256)  1024        conv4_block3_2_conv[0][0]        \n",
            "__________________________________________________________________________________________________\n",
            "conv4_block3_2_relu (Activation (None, 14, 14, 256)  0           conv4_block3_2_bn[0][0]          \n",
            "__________________________________________________________________________________________________\n",
            "conv4_block3_3_conv (Conv2D)    (None, 14, 14, 1024) 263168      conv4_block3_2_relu[0][0]        \n",
            "__________________________________________________________________________________________________\n",
            "conv4_block3_3_bn (BatchNormali (None, 14, 14, 1024) 4096        conv4_block3_3_conv[0][0]        \n",
            "__________________________________________________________________________________________________\n",
            "conv4_block3_add (Add)          (None, 14, 14, 1024) 0           conv4_block2_out[0][0]           \n",
            "                                                                 conv4_block3_3_bn[0][0]          \n",
            "__________________________________________________________________________________________________\n",
            "conv4_block3_out (Activation)   (None, 14, 14, 1024) 0           conv4_block3_add[0][0]           \n",
            "__________________________________________________________________________________________________\n",
            "conv4_block4_1_conv (Conv2D)    (None, 14, 14, 256)  262400      conv4_block3_out[0][0]           \n",
            "__________________________________________________________________________________________________\n",
            "conv4_block4_1_bn (BatchNormali (None, 14, 14, 256)  1024        conv4_block4_1_conv[0][0]        \n",
            "__________________________________________________________________________________________________\n",
            "conv4_block4_1_relu (Activation (None, 14, 14, 256)  0           conv4_block4_1_bn[0][0]          \n",
            "__________________________________________________________________________________________________\n",
            "conv4_block4_2_conv (Conv2D)    (None, 14, 14, 256)  590080      conv4_block4_1_relu[0][0]        \n",
            "__________________________________________________________________________________________________\n",
            "conv4_block4_2_bn (BatchNormali (None, 14, 14, 256)  1024        conv4_block4_2_conv[0][0]        \n",
            "__________________________________________________________________________________________________\n",
            "conv4_block4_2_relu (Activation (None, 14, 14, 256)  0           conv4_block4_2_bn[0][0]          \n",
            "__________________________________________________________________________________________________\n",
            "conv4_block4_3_conv (Conv2D)    (None, 14, 14, 1024) 263168      conv4_block4_2_relu[0][0]        \n",
            "__________________________________________________________________________________________________\n",
            "conv4_block4_3_bn (BatchNormali (None, 14, 14, 1024) 4096        conv4_block4_3_conv[0][0]        \n",
            "__________________________________________________________________________________________________\n",
            "conv4_block4_add (Add)          (None, 14, 14, 1024) 0           conv4_block3_out[0][0]           \n",
            "                                                                 conv4_block4_3_bn[0][0]          \n",
            "__________________________________________________________________________________________________\n",
            "conv4_block4_out (Activation)   (None, 14, 14, 1024) 0           conv4_block4_add[0][0]           \n",
            "__________________________________________________________________________________________________\n",
            "conv4_block5_1_conv (Conv2D)    (None, 14, 14, 256)  262400      conv4_block4_out[0][0]           \n",
            "__________________________________________________________________________________________________\n",
            "conv4_block5_1_bn (BatchNormali (None, 14, 14, 256)  1024        conv4_block5_1_conv[0][0]        \n",
            "__________________________________________________________________________________________________\n",
            "conv4_block5_1_relu (Activation (None, 14, 14, 256)  0           conv4_block5_1_bn[0][0]          \n",
            "__________________________________________________________________________________________________\n",
            "conv4_block5_2_conv (Conv2D)    (None, 14, 14, 256)  590080      conv4_block5_1_relu[0][0]        \n",
            "__________________________________________________________________________________________________\n",
            "conv4_block5_2_bn (BatchNormali (None, 14, 14, 256)  1024        conv4_block5_2_conv[0][0]        \n",
            "__________________________________________________________________________________________________\n",
            "conv4_block5_2_relu (Activation (None, 14, 14, 256)  0           conv4_block5_2_bn[0][0]          \n",
            "__________________________________________________________________________________________________\n",
            "conv4_block5_3_conv (Conv2D)    (None, 14, 14, 1024) 263168      conv4_block5_2_relu[0][0]        \n",
            "__________________________________________________________________________________________________\n",
            "conv4_block5_3_bn (BatchNormali (None, 14, 14, 1024) 4096        conv4_block5_3_conv[0][0]        \n",
            "__________________________________________________________________________________________________\n",
            "conv4_block5_add (Add)          (None, 14, 14, 1024) 0           conv4_block4_out[0][0]           \n",
            "                                                                 conv4_block5_3_bn[0][0]          \n",
            "__________________________________________________________________________________________________\n",
            "conv4_block5_out (Activation)   (None, 14, 14, 1024) 0           conv4_block5_add[0][0]           \n",
            "__________________________________________________________________________________________________\n",
            "conv4_block6_1_conv (Conv2D)    (None, 14, 14, 256)  262400      conv4_block5_out[0][0]           \n",
            "__________________________________________________________________________________________________\n",
            "conv4_block6_1_bn (BatchNormali (None, 14, 14, 256)  1024        conv4_block6_1_conv[0][0]        \n",
            "__________________________________________________________________________________________________\n",
            "conv4_block6_1_relu (Activation (None, 14, 14, 256)  0           conv4_block6_1_bn[0][0]          \n",
            "__________________________________________________________________________________________________\n",
            "conv4_block6_2_conv (Conv2D)    (None, 14, 14, 256)  590080      conv4_block6_1_relu[0][0]        \n",
            "__________________________________________________________________________________________________\n",
            "conv4_block6_2_bn (BatchNormali (None, 14, 14, 256)  1024        conv4_block6_2_conv[0][0]        \n",
            "__________________________________________________________________________________________________\n",
            "conv4_block6_2_relu (Activation (None, 14, 14, 256)  0           conv4_block6_2_bn[0][0]          \n",
            "__________________________________________________________________________________________________\n",
            "conv4_block6_3_conv (Conv2D)    (None, 14, 14, 1024) 263168      conv4_block6_2_relu[0][0]        \n",
            "__________________________________________________________________________________________________\n",
            "conv4_block6_3_bn (BatchNormali (None, 14, 14, 1024) 4096        conv4_block6_3_conv[0][0]        \n",
            "__________________________________________________________________________________________________\n",
            "conv4_block6_add (Add)          (None, 14, 14, 1024) 0           conv4_block5_out[0][0]           \n",
            "                                                                 conv4_block6_3_bn[0][0]          \n",
            "__________________________________________________________________________________________________\n",
            "conv4_block6_out (Activation)   (None, 14, 14, 1024) 0           conv4_block6_add[0][0]           \n",
            "__________________________________________________________________________________________________\n",
            "conv5_block1_1_conv (Conv2D)    (None, 7, 7, 512)    524800      conv4_block6_out[0][0]           \n",
            "__________________________________________________________________________________________________\n",
            "conv5_block1_1_bn (BatchNormali (None, 7, 7, 512)    2048        conv5_block1_1_conv[0][0]        \n",
            "__________________________________________________________________________________________________\n",
            "conv5_block1_1_relu (Activation (None, 7, 7, 512)    0           conv5_block1_1_bn[0][0]          \n",
            "__________________________________________________________________________________________________\n",
            "conv5_block1_2_conv (Conv2D)    (None, 7, 7, 512)    2359808     conv5_block1_1_relu[0][0]        \n",
            "__________________________________________________________________________________________________\n",
            "conv5_block1_2_bn (BatchNormali (None, 7, 7, 512)    2048        conv5_block1_2_conv[0][0]        \n",
            "__________________________________________________________________________________________________\n",
            "conv5_block1_2_relu (Activation (None, 7, 7, 512)    0           conv5_block1_2_bn[0][0]          \n",
            "__________________________________________________________________________________________________\n",
            "conv5_block1_0_conv (Conv2D)    (None, 7, 7, 2048)   2099200     conv4_block6_out[0][0]           \n",
            "__________________________________________________________________________________________________\n",
            "conv5_block1_3_conv (Conv2D)    (None, 7, 7, 2048)   1050624     conv5_block1_2_relu[0][0]        \n",
            "__________________________________________________________________________________________________\n",
            "conv5_block1_0_bn (BatchNormali (None, 7, 7, 2048)   8192        conv5_block1_0_conv[0][0]        \n",
            "__________________________________________________________________________________________________\n",
            "conv5_block1_3_bn (BatchNormali (None, 7, 7, 2048)   8192        conv5_block1_3_conv[0][0]        \n",
            "__________________________________________________________________________________________________\n",
            "conv5_block1_add (Add)          (None, 7, 7, 2048)   0           conv5_block1_0_bn[0][0]          \n",
            "                                                                 conv5_block1_3_bn[0][0]          \n",
            "__________________________________________________________________________________________________\n",
            "conv5_block1_out (Activation)   (None, 7, 7, 2048)   0           conv5_block1_add[0][0]           \n",
            "__________________________________________________________________________________________________\n",
            "conv5_block2_1_conv (Conv2D)    (None, 7, 7, 512)    1049088     conv5_block1_out[0][0]           \n",
            "__________________________________________________________________________________________________\n",
            "conv5_block2_1_bn (BatchNormali (None, 7, 7, 512)    2048        conv5_block2_1_conv[0][0]        \n",
            "__________________________________________________________________________________________________\n",
            "conv5_block2_1_relu (Activation (None, 7, 7, 512)    0           conv5_block2_1_bn[0][0]          \n",
            "__________________________________________________________________________________________________\n",
            "conv5_block2_2_conv (Conv2D)    (None, 7, 7, 512)    2359808     conv5_block2_1_relu[0][0]        \n",
            "__________________________________________________________________________________________________\n",
            "conv5_block2_2_bn (BatchNormali (None, 7, 7, 512)    2048        conv5_block2_2_conv[0][0]        \n",
            "__________________________________________________________________________________________________\n",
            "conv5_block2_2_relu (Activation (None, 7, 7, 512)    0           conv5_block2_2_bn[0][0]          \n",
            "__________________________________________________________________________________________________\n",
            "conv5_block2_3_conv (Conv2D)    (None, 7, 7, 2048)   1050624     conv5_block2_2_relu[0][0]        \n",
            "__________________________________________________________________________________________________\n",
            "conv5_block2_3_bn (BatchNormali (None, 7, 7, 2048)   8192        conv5_block2_3_conv[0][0]        \n",
            "__________________________________________________________________________________________________\n",
            "conv5_block2_add (Add)          (None, 7, 7, 2048)   0           conv5_block1_out[0][0]           \n",
            "                                                                 conv5_block2_3_bn[0][0]          \n",
            "__________________________________________________________________________________________________\n",
            "conv5_block2_out (Activation)   (None, 7, 7, 2048)   0           conv5_block2_add[0][0]           \n",
            "__________________________________________________________________________________________________\n",
            "conv5_block3_1_conv (Conv2D)    (None, 7, 7, 512)    1049088     conv5_block2_out[0][0]           \n",
            "__________________________________________________________________________________________________\n",
            "conv5_block3_1_bn (BatchNormali (None, 7, 7, 512)    2048        conv5_block3_1_conv[0][0]        \n",
            "__________________________________________________________________________________________________\n",
            "conv5_block3_1_relu (Activation (None, 7, 7, 512)    0           conv5_block3_1_bn[0][0]          \n",
            "__________________________________________________________________________________________________\n",
            "conv5_block3_2_conv (Conv2D)    (None, 7, 7, 512)    2359808     conv5_block3_1_relu[0][0]        \n",
            "__________________________________________________________________________________________________\n",
            "conv5_block3_2_bn (BatchNormali (None, 7, 7, 512)    2048        conv5_block3_2_conv[0][0]        \n",
            "__________________________________________________________________________________________________\n",
            "conv5_block3_2_relu (Activation (None, 7, 7, 512)    0           conv5_block3_2_bn[0][0]          \n",
            "__________________________________________________________________________________________________\n",
            "conv5_block3_3_conv (Conv2D)    (None, 7, 7, 2048)   1050624     conv5_block3_2_relu[0][0]        \n",
            "__________________________________________________________________________________________________\n",
            "conv5_block3_3_bn (BatchNormali (None, 7, 7, 2048)   8192        conv5_block3_3_conv[0][0]        \n",
            "__________________________________________________________________________________________________\n",
            "conv5_block3_add (Add)          (None, 7, 7, 2048)   0           conv5_block2_out[0][0]           \n",
            "                                                                 conv5_block3_3_bn[0][0]          \n",
            "__________________________________________________________________________________________________\n",
            "conv5_block3_out (Activation)   (None, 7, 7, 2048)   0           conv5_block3_add[0][0]           \n",
            "__________________________________________________________________________________________________\n",
            "avg_pool (GlobalAveragePooling2 (None, 2048)         0           conv5_block3_out[0][0]           \n",
            "__________________________________________________________________________________________________\n",
            "predictions (Dense)             (None, 1000)         2049000     avg_pool[0][0]                   \n",
            "==================================================================================================\n",
            "Total params: 25,636,712\n",
            "Trainable params: 25,583,592\n",
            "Non-trainable params: 53,120\n",
            "__________________________________________________________________________________________________\n"
          ],
          "name": "stdout"
        }
      ]
    },
    {
      "cell_type": "code",
      "metadata": {
        "id": "qa2WrcY-IFqo",
        "colab_type": "code",
        "colab": {}
      },
      "source": [
        "model_new = Model(inputs = model.input, outputs =  model.layers[-2].output)"
      ],
      "execution_count": null,
      "outputs": []
    },
    {
      "cell_type": "code",
      "metadata": {
        "id": "iMppb75CIFod",
        "colab_type": "code",
        "colab": {}
      },
      "source": [
        "def preprocess_image(img):\n",
        "    img = image.load_img(img, target_size=(224,224))\n",
        "    img = image.img_to_array(img)\n",
        "    img = preprocess_input(img)\n",
        "    img = np.expand_dims(img, axis = 0)\n",
        "\n",
        "    return img\n"
      ],
      "execution_count": null,
      "outputs": []
    },
    {
      "cell_type": "code",
      "metadata": {
        "id": "69CJOEkpIjxf",
        "colab_type": "code",
        "colab": {}
      },
      "source": [
        "def encode_image(img):\n",
        "    img = preprocess_image(img)\n",
        "    fea_vec = model_new.predict(img)\n",
        "    fea_vec = fea_vec.reshape(fea_vec.shape[1], )\n",
        "    return fea_vec"
      ],
      "execution_count": null,
      "outputs": []
    },
    {
      "cell_type": "code",
      "metadata": {
        "id": "qcM9tNhkIj2R",
        "colab_type": "code",
        "colab": {}
      },
      "source": [
        "images='/content/drive/My Drive/AI/Projects/Image captioning/Dataset/Flicker8k_Dataset/'"
      ],
      "execution_count": null,
      "outputs": []
    },
    {
      "cell_type": "code",
      "metadata": {
        "id": "NbKecCV7Ij7L",
        "colab_type": "code",
        "colab": {}
      },
      "source": [
        "start = time.time()\n",
        "\n",
        "encoding_train = {}                #Dictionary with keys as image ids and values as encoding corresponding to the images                        \n",
        "\n",
        "for ix, img in enumerate(train):\n",
        "    \n",
        "    img = images+train[ix]+\".jpg\"\n",
        "    \n",
        "    p = encode_image(img)\n",
        "    \n",
        "    encoding_train[ img[len(images):] ] = p\n",
        "    \n",
        "    \n",
        "    if ix%100 == 0:\n",
        "        print(\"Encoding image :\" + str(ix))\n",
        "    \n",
        "print(\"Time taken in sec - \" + time.time() - start)"
      ],
      "execution_count": null,
      "outputs": []
    },
    {
      "cell_type": "code",
      "metadata": {
        "id": "gPx2kMhrRGMb",
        "colab_type": "code",
        "colab": {}
      },
      "source": [
        "start = time.time()\n",
        "\n",
        "encoding_test = {}\n",
        "\n",
        "for ix, img in enumerate(test):\n",
        "    \n",
        "    img = images+test[ix]+\".jpg\"\n",
        "    \n",
        "    p = encode_image(img)\n",
        "    \n",
        "    encoding_test[ img[len(images):] ] = p\n",
        "    \n",
        "    \n",
        "    if ix%100 == 0:\n",
        "        print(\"Encoding image :\" + str(ix))\n",
        "    \n",
        "print(\"Time taken in sec - \" + time.time() - start)"
      ],
      "execution_count": null,
      "outputs": []
    },
    {
      "cell_type": "code",
      "metadata": {
        "id": "x0TTUXy8Ij_F",
        "colab_type": "code",
        "colab": {}
      },
      "source": [
        "# saving features to disk\n",
        "\n",
        "with open(\"./encoded_train_images.pkl\", 'wb') as f:\n",
        "    pickle.dump(encoding_train, f )"
      ],
      "execution_count": null,
      "outputs": []
    },
    {
      "cell_type": "code",
      "metadata": {
        "id": "wzBYXDjXRnHi",
        "colab_type": "code",
        "colab": {}
      },
      "source": [
        "with open(\"./encoded_test_images.pkl\", 'wb') as f:\n",
        "    pickle.dump(encoding_test, f )"
      ],
      "execution_count": null,
      "outputs": []
    },
    {
      "cell_type": "code",
      "metadata": {
        "id": "k3l9C1J9IkQW",
        "colab_type": "code",
        "colab": {}
      },
      "source": [
        "with open(\"/content/drive/My Drive/AI/Projects/Image captioning/Dataset/Pkl/encoded_train_images.pkl\", 'rb') as f:\n",
        "    encoding_train = pickle.load(f)"
      ],
      "execution_count": null,
      "outputs": []
    },
    {
      "cell_type": "code",
      "metadata": {
        "id": "PpECD6IbXaJA",
        "colab_type": "code",
        "colab": {}
      },
      "source": [
        "with open(\"/content/drive/My Drive/AI/Projects/Image captioning/Dataset/Pkl/encoded_test_images.pkl\", 'rb') as f:\n",
        "    encoding_test = pickle.load(f)"
      ],
      "execution_count": null,
      "outputs": []
    },
    {
      "cell_type": "markdown",
      "metadata": {
        "id": "5DVxkH-y98-R",
        "colab_type": "text"
      },
      "source": [
        "**Captions**"
      ]
    },
    {
      "cell_type": "code",
      "metadata": {
        "id": "IFMGiFP6_3UQ",
        "colab_type": "code",
        "colab": {}
      },
      "source": [
        "word_to_idx = {}\n",
        "idx_to_word = {}\n",
        "\n",
        "ix = 1\n",
        "\n",
        "for e in all_vocab:\n",
        "    #print(ix,e)\n",
        "    word_to_idx[e] = ix\n",
        "    idx_to_word[ix] = e\n",
        "    ix +=1"
      ],
      "execution_count": null,
      "outputs": []
    },
    {
      "cell_type": "code",
      "metadata": {
        "id": "4cBvmGJjFMtN",
        "colab_type": "code",
        "colab": {
          "base_uri": "https://localhost:8080/",
          "height": 901
        },
        "outputId": "83522a16-511f-4cf1-beaa-1663cc3a2909"
      },
      "source": [
        "i=0\n",
        "for keys,values in word_to_idx.items():\n",
        " i=i+1\n",
        " \n",
        " print(keys,values)\n",
        " \n",
        " if i>50:break"
      ],
      "execution_count": null,
      "outputs": [
        {
          "output_type": "stream",
          "text": [
            "<startseq> 1\n",
            "<endseq> 2\n",
            "in 3\n",
            "the 4\n",
            "on 5\n",
            "is 6\n",
            "and 7\n",
            "dog 8\n",
            "with 9\n",
            "man 10\n",
            "of 11\n",
            "two 12\n",
            "white 13\n",
            "black 14\n",
            "boy 15\n",
            "are 16\n",
            "woman 17\n",
            "girl 18\n",
            "to 19\n",
            "wearing 20\n",
            "at 21\n",
            "people 22\n",
            "water 23\n",
            "red 24\n",
            "young 25\n",
            "brown 26\n",
            "an 27\n",
            "his 28\n",
            "blue 29\n",
            "dogs 30\n",
            "running 31\n",
            "through 32\n",
            "playing 33\n",
            "while 34\n",
            "shirt 35\n",
            "down 36\n",
            "standing 37\n",
            "ball 38\n",
            "little 39\n",
            "grass 40\n",
            "snow 41\n",
            "child 42\n",
            "person 43\n",
            "jumping 44\n",
            "over 45\n",
            "three 46\n",
            "front 47\n",
            "sitting 48\n",
            "holding 49\n",
            "up 50\n",
            "field 51\n"
          ],
          "name": "stdout"
        }
      ]
    },
    {
      "cell_type": "code",
      "metadata": {
        "id": "YQkE5B3SFjgV",
        "colab_type": "code",
        "colab": {}
      },
      "source": [
        "i=0\n",
        "for keys,values in idx_to_word.items():\n",
        " i=i+1\n",
        " \n",
        " print(keys,values)\n",
        " \n",
        " if i>50:break"
      ],
      "execution_count": null,
      "outputs": []
    },
    {
      "cell_type": "code",
      "metadata": {
        "id": "WkNXlWgdDyfq",
        "colab_type": "code",
        "colab": {}
      },
      "source": [
        "for i in range(51):print(all_vocab[i])"
      ],
      "execution_count": null,
      "outputs": []
    },
    {
      "cell_type": "code",
      "metadata": {
        "id": "m_Tgqwy2_3RR",
        "colab_type": "code",
        "colab": {
          "base_uri": "https://localhost:8080/",
          "height": 35
        },
        "outputId": "44e04288-7bf1-44b7-97cb-afca4df2ce0f"
      },
      "source": [
        "len(all_vocab)"
      ],
      "execution_count": null,
      "outputs": [
        {
          "output_type": "execute_result",
          "data": {
            "text/plain": [
              "1847"
            ]
          },
          "metadata": {
            "tags": []
          },
          "execution_count": 64
        }
      ]
    },
    {
      "cell_type": "code",
      "metadata": {
        "id": "Kyvd9T_MIj0x",
        "colab_type": "code",
        "colab": {
          "base_uri": "https://localhost:8080/",
          "height": 35
        },
        "outputId": "10dada18-0c4b-48a2-e7de-060268f965c7"
      },
      "source": [
        "vocab_size = len(idx_to_word) + 1\n",
        "print(vocab_size)\n"
      ],
      "execution_count": null,
      "outputs": [
        {
          "output_type": "stream",
          "text": [
            "1848\n"
          ],
          "name": "stdout"
        }
      ]
    },
    {
      "cell_type": "code",
      "metadata": {
        "id": "oTadzqglDTAe",
        "colab_type": "code",
        "colab": {}
      },
      "source": [
        "all_caption_len = []\n",
        "\n",
        "for key in train_descriptions.keys():\n",
        "    for cap in train_descriptions[key]:\n",
        "        all_caption_len.append(len(cap.split()))"
      ],
      "execution_count": null,
      "outputs": []
    },
    {
      "cell_type": "code",
      "metadata": {
        "id": "OwEydUaLGX3P",
        "colab_type": "code",
        "colab": {}
      },
      "source": [
        "print(len(all_caption_len))\n",
        "print(all_caption_len[:50])"
      ],
      "execution_count": null,
      "outputs": []
    },
    {
      "cell_type": "code",
      "metadata": {
        "id": "BBswhmdADS8U",
        "colab_type": "code",
        "colab": {
          "base_uri": "https://localhost:8080/",
          "height": 35
        },
        "outputId": "01e9ecc0-dd2e-4331-9465-52fb816b5120"
      },
      "source": [
        "max_len = max(all_caption_len)\n",
        "print(max_len) "
      ],
      "execution_count": null,
      "outputs": [
        {
          "output_type": "stream",
          "text": [
            "35\n"
          ],
          "name": "stdout"
        }
      ]
    },
    {
      "cell_type": "markdown",
      "metadata": {
        "id": "0PDAKtE-AJNJ",
        "colab_type": "text"
      },
      "source": [
        "Generator Function"
      ]
    },
    {
      "cell_type": "code",
      "metadata": {
        "id": "V1vDJntmIj5b",
        "colab_type": "code",
        "colab": {}
      },
      "source": [
        "def data_generator(train_descriptions, encoding_train, word_to_idx, max_len,  num_photos_per_batch ):\n",
        "    X1, X2, y = [], [], []\n",
        "    \n",
        "    n=0\n",
        "    cnt = 0\n",
        "    all_items = list(train_descriptions.keys())\n",
        "    \n",
        "    while True:\n",
        "      n+=1\n",
        "      # print(cnt)\n",
        "      key = all_items[cnt]\n",
        "      desc_list = train_descriptions[key]              \n",
        "      cnt+=1\n",
        "      cnt= (cnt%len(all_items))\n",
        "\n",
        "\n",
        "      photo = encoding_train[key+'.jpg']          #feature vector\n",
        "            #print(photo.shape)\n",
        "      for desc in desc_list:                       #desc : iterates through the 5 captions\n",
        "        seq = [word_to_idx[word] for word in desc.split() if word in word_to_idx]                \n",
        "                \n",
        "        for i in range(1, len(seq)): \n",
        "            in_seq = seq[0:i]\n",
        "            out_seq = seq[i]\n",
        "            \n",
        "            in_seq = pad_sequences( [in_seq], maxlen=max_len, value= 0, padding='post')[0]\n",
        "        \n",
        "            out_seq = to_categorical([out_seq], num_classes=vocab_size)[0]\n",
        "            \n",
        "            X1.append(photo)\n",
        "            X2.append(in_seq)\n",
        "            y.append(out_seq)\n",
        "\n",
        "      if n == num_photos_per_batch:\n",
        "          yield [np.array(X1), np.array(X2)] , np.array(y)\n",
        "          X1, X2, y = [], [], []\n",
        "          n = 0         "
      ],
      "execution_count": null,
      "outputs": []
    },
    {
      "cell_type": "code",
      "metadata": {
        "id": "HvWhDAmt_3Xa",
        "colab_type": "code",
        "colab": {
          "base_uri": "https://localhost:8080/",
          "height": 69
        },
        "outputId": "c153cdbb-66b8-401d-cb7d-2403daa3cce0"
      },
      "source": [
        "for i in data_generator(train_descriptions, encoding_train, word_to_idx, max_len, 3):\n",
        "    X, y = i\n",
        "    print(X[0].shape) \n",
        "    print(X[1].shape)\n",
        "    print(y.shape)\n",
        "    break"
      ],
      "execution_count": null,
      "outputs": [
        {
          "output_type": "stream",
          "text": [
            "(147, 2048)\n",
            "(147, 35)\n",
            "(147, 1848)\n"
          ],
          "name": "stdout"
        }
      ]
    },
    {
      "cell_type": "markdown",
      "metadata": {
        "id": "T7Wa-FkCRcOA",
        "colab_type": "text"
      },
      "source": [
        "Word Embedding"
      ]
    },
    {
      "cell_type": "code",
      "metadata": {
        "id": "seVTvGYhDS25",
        "colab_type": "code",
        "colab": {}
      },
      "source": [
        "embeddings = {}\n",
        "\n",
        "with open('/content/drive/My Drive/AI/Projects/Image captioning/Dataset/FlickrText/glove.6B.50d.txt', 'r', encoding='utf-8') as f:\n",
        "    for line in f:\n",
        "        values = line.split()\n",
        "        word = values[0]\n",
        "        coeffs = np.array(values[1:], dtype=\"float32\")\n",
        "        \n",
        "        embeddings[word] = coeffs\n"
      ],
      "execution_count": null,
      "outputs": []
    },
    {
      "cell_type": "code",
      "metadata": {
        "id": "8URql56-J87_",
        "colab_type": "code",
        "colab": {}
      },
      "source": [
        "i=0\n",
        "for keys,values in embeddings.items():\n",
        " i=i+1\n",
        " \n",
        " print(keys,values)\n",
        " \n",
        " if i>10:break"
      ],
      "execution_count": null,
      "outputs": []
    },
    {
      "cell_type": "code",
      "metadata": {
        "id": "jIpYT-LcKN98",
        "colab_type": "code",
        "colab": {
          "base_uri": "https://localhost:8080/",
          "height": 35
        },
        "outputId": "244407fc-6ca0-4d3e-97e5-c7a61695e907"
      },
      "source": [
        "print(len(embeddings))"
      ],
      "execution_count": null,
      "outputs": [
        {
          "output_type": "stream",
          "text": [
            "400000\n"
          ],
          "name": "stdout"
        }
      ]
    },
    {
      "cell_type": "code",
      "metadata": {
        "id": "IXt5_Y_cRQVN",
        "colab_type": "code",
        "colab": {}
      },
      "source": [
        "def getOutputEmbeddings():\n",
        "\n",
        "    emb_dim = 50\n",
        "    embedding_matrix_output = np.zeros((vocab_size, emb_dim ))\n",
        "    \n",
        "    for word, idx in word_to_idx.items():\n",
        "        \n",
        "        emb_vec = embeddings.get(word)\n",
        "        \n",
        "        if emb_vec is not None:\n",
        "            embedding_matrix_output[idx] = emb_vec\n",
        "            \n",
        "    return embedding_matrix_output"
      ],
      "execution_count": null,
      "outputs": []
    },
    {
      "cell_type": "code",
      "metadata": {
        "id": "aFoBXwgORVxZ",
        "colab_type": "code",
        "colab": {}
      },
      "source": [
        "embedding_output = getOutputEmbeddings()"
      ],
      "execution_count": null,
      "outputs": []
    },
    {
      "cell_type": "code",
      "metadata": {
        "id": "AwTW-2RtRVuW",
        "colab_type": "code",
        "colab": {
          "base_uri": "https://localhost:8080/",
          "height": 35
        },
        "outputId": "94d1145c-e83f-4329-a31a-24419927995a"
      },
      "source": [
        "embedding_output.shape"
      ],
      "execution_count": null,
      "outputs": [
        {
          "output_type": "execute_result",
          "data": {
            "text/plain": [
              "(1848, 50)"
            ]
          },
          "metadata": {
            "tags": []
          },
          "execution_count": 84
        }
      ]
    },
    {
      "cell_type": "code",
      "metadata": {
        "id": "dzqVIWAEKums",
        "colab_type": "code",
        "colab": {
          "base_uri": "https://localhost:8080/",
          "height": 468
        },
        "outputId": "c419652e-c426-4f2e-a679-adb9b32af9ab"
      },
      "source": [
        "print(embedding_output[5:7])"
      ],
      "execution_count": null,
      "outputs": [
        {
          "output_type": "stream",
          "text": [
            "[[ 3.00449997e-01  2.50059992e-01 -1.66920006e-01  1.92300007e-01\n",
            "   2.69210003e-02 -7.94859976e-02 -9.13829982e-01 -1.97400004e-01\n",
            "  -5.34130000e-02 -4.08459991e-01 -2.68440008e-01 -2.82119989e-01\n",
            "  -5.00000000e-01  1.22100003e-01  3.90300006e-01  1.77970007e-01\n",
            "  -4.42900002e-01 -4.04780000e-01 -9.50500011e-01 -1.68970004e-01\n",
            "   7.77930021e-01  3.35249990e-01  3.34600002e-01 -1.75400004e-01\n",
            "  -1.20169997e-01 -1.78610003e+00  2.92409986e-01  5.59329987e-01\n",
            "   2.99820006e-02 -3.24169993e-01  3.92969990e+00  1.08800001e-01\n",
            "  -5.73350012e-01 -1.78420007e-01  4.17480012e-03 -1.63090006e-01\n",
            "   4.50769991e-01 -1.61229998e-01 -1.73109993e-01 -8.78890008e-02\n",
            "  -8.90320018e-02  6.20010011e-02 -1.99460000e-01 -3.88630003e-01\n",
            "  -1.82319999e-01  6.07509986e-02  9.86030027e-02 -7.13099986e-02\n",
            "   2.30519995e-01 -5.19389987e-01]\n",
            " [ 6.18499994e-01  6.42539978e-01 -4.65519994e-01  3.75699997e-01\n",
            "   7.48380005e-01  5.37389994e-01  2.22390005e-03 -6.05769992e-01\n",
            "   2.64079988e-01  1.17030002e-01  4.37220007e-01  2.00920001e-01\n",
            "  -5.78589998e-02 -3.45889986e-01  2.16639996e-01  5.85730016e-01\n",
            "   5.39189994e-01  6.94899976e-01 -1.56179994e-01  5.58300018e-02\n",
            "  -6.05149984e-01 -2.89970011e-01 -2.55939998e-02  5.55930018e-01\n",
            "   2.53560007e-01 -1.96120000e+00 -5.13809979e-01  6.90959990e-01\n",
            "   6.62460029e-02 -5.42239994e-02  3.78710008e+00 -7.74030030e-01\n",
            "  -1.26890004e-01 -5.14649987e-01  6.67050034e-02 -3.29329997e-01\n",
            "   1.34829998e-01  1.90490007e-01  1.38119996e-01 -2.15030000e-01\n",
            "  -1.65730007e-02  3.12000006e-01 -3.31889987e-01 -2.60010008e-02\n",
            "  -3.82030010e-01  1.94030002e-01 -1.24660000e-01 -2.75570005e-01\n",
            "   3.08990002e-01  4.84970003e-01]]\n"
          ],
          "name": "stdout"
        }
      ]
    },
    {
      "cell_type": "markdown",
      "metadata": {
        "id": "PIvOlmMW1KWJ",
        "colab_type": "text"
      },
      "source": [
        "Model Architecture"
      ]
    },
    {
      "cell_type": "code",
      "metadata": {
        "id": "gyaTwLCWRVqe",
        "colab_type": "code",
        "colab": {}
      },
      "source": [
        "input_img_fea = Input(shape=(2048,))\n",
        "inp_img1 = Dropout(0.3)(input_img_fea)\n",
        "inp_img2 = Dense(256, activation='relu')(inp_img1)"
      ],
      "execution_count": null,
      "outputs": []
    },
    {
      "cell_type": "code",
      "metadata": {
        "id": "hiAPbieBLxcW",
        "colab_type": "code",
        "colab": {
          "base_uri": "https://localhost:8080/",
          "height": 35
        },
        "outputId": "d34cb5b2-8a7a-407a-99a0-d569ac0929bb"
      },
      "source": [
        "print(inp_img2.shape)"
      ],
      "execution_count": null,
      "outputs": [
        {
          "output_type": "stream",
          "text": [
            "(None, 256)\n"
          ],
          "name": "stdout"
        }
      ]
    },
    {
      "cell_type": "code",
      "metadata": {
        "id": "ng1HoL0iRVmC",
        "colab_type": "code",
        "colab": {}
      },
      "source": [
        "input_cap = Input(shape=(max_len,))\n",
        "inp_cap1 = Embedding(input_dim= vocab_size, output_dim=50, mask_zero=True)(input_cap)\n",
        "#print(inp_cap1)\n",
        "inp_cap2 = Dropout(0.3)(inp_cap1)\n",
        "inp_cap3 = LSTM(256)(inp_cap2)"
      ],
      "execution_count": null,
      "outputs": []
    },
    {
      "cell_type": "code",
      "metadata": {
        "id": "hlWFbN0cL3n7",
        "colab_type": "code",
        "colab": {
          "base_uri": "https://localhost:8080/",
          "height": 35
        },
        "outputId": "7fbadb13-dd4b-4708-8b39-3a4a3e64c898"
      },
      "source": [
        "print(inp_cap3.shape)"
      ],
      "execution_count": null,
      "outputs": [
        {
          "output_type": "stream",
          "text": [
            "(None, 256)\n"
          ],
          "name": "stdout"
        }
      ]
    },
    {
      "cell_type": "code",
      "metadata": {
        "id": "evkP2ZyL7MmC",
        "colab_type": "code",
        "colab": {
          "base_uri": "https://localhost:8080/",
          "height": 35
        },
        "outputId": "e7897f27-1635-4597-a00b-fdc7d6632038"
      },
      "source": [
        "decoder1 = add([inp_img2, inp_cap3])\n",
        "print(decoder1.shape)\n",
        "decoder2 = Dense(256, activation='relu')(decoder1)\n",
        "output = Dense(vocab_size, activation='softmax')(decoder2)\n",
        "\n",
        "\n",
        "model = Model(inputs = [input_img_fea, input_cap]  , outputs =  output )"
      ],
      "execution_count": null,
      "outputs": [
        {
          "output_type": "stream",
          "text": [
            "(None, 256)\n"
          ],
          "name": "stdout"
        }
      ]
    },
    {
      "cell_type": "code",
      "metadata": {
        "id": "TPs-L61t7Mhs",
        "colab_type": "code",
        "colab": {
          "base_uri": "https://localhost:8080/",
          "height": 520
        },
        "outputId": "5c0410e5-4adf-43cb-fb9f-4ed2424b22f0"
      },
      "source": [
        "model.summary()"
      ],
      "execution_count": null,
      "outputs": [
        {
          "output_type": "stream",
          "text": [
            "Model: \"functional_3\"\n",
            "__________________________________________________________________________________________________\n",
            "Layer (type)                    Output Shape         Param #     Connected to                     \n",
            "==================================================================================================\n",
            "input_4 (InputLayer)            [(None, 35)]         0                                            \n",
            "__________________________________________________________________________________________________\n",
            "input_3 (InputLayer)            [(None, 2048)]       0                                            \n",
            "__________________________________________________________________________________________________\n",
            "embedding (Embedding)           (None, 35, 50)       92400       input_4[0][0]                    \n",
            "__________________________________________________________________________________________________\n",
            "dropout_1 (Dropout)             (None, 2048)         0           input_3[0][0]                    \n",
            "__________________________________________________________________________________________________\n",
            "dropout_2 (Dropout)             (None, 35, 50)       0           embedding[0][0]                  \n",
            "__________________________________________________________________________________________________\n",
            "dense_1 (Dense)                 (None, 256)          524544      dropout_1[0][0]                  \n",
            "__________________________________________________________________________________________________\n",
            "lstm (LSTM)                     (None, 256)          314368      dropout_2[0][0]                  \n",
            "__________________________________________________________________________________________________\n",
            "add (Add)                       (None, 256)          0           dense_1[0][0]                    \n",
            "                                                                 lstm[0][0]                       \n",
            "__________________________________________________________________________________________________\n",
            "dense_2 (Dense)                 (None, 256)          65792       add[0][0]                        \n",
            "__________________________________________________________________________________________________\n",
            "dense_3 (Dense)                 (None, 1848)         474936      dense_2[0][0]                    \n",
            "==================================================================================================\n",
            "Total params: 1,472,040\n",
            "Trainable params: 1,472,040\n",
            "Non-trainable params: 0\n",
            "__________________________________________________________________________________________________\n"
          ],
          "name": "stdout"
        }
      ]
    },
    {
      "cell_type": "code",
      "metadata": {
        "id": "MM1Xcilm7Md7",
        "colab_type": "code",
        "colab": {}
      },
      "source": [
        "model.layers[2].set_weights([embedding_output])\n",
        "model.layers[2].trainable = False"
      ],
      "execution_count": null,
      "outputs": []
    },
    {
      "cell_type": "code",
      "metadata": {
        "id": "qbKZlHQa7MZK",
        "colab_type": "code",
        "colab": {}
      },
      "source": [
        "model.compile(loss=\"categorical_crossentropy\", optimizer='adam') "
      ],
      "execution_count": null,
      "outputs": []
    },
    {
      "cell_type": "code",
      "metadata": {
        "id": "ykJKMaPW7MRO",
        "colab_type": "code",
        "colab": {}
      },
      "source": [
        "epochs = 10\n",
        "number_photos_per_batch = 3\n",
        "steps = len(train_descriptions)//number_photos_per_batch\n",
        "\n",
        "mytraingen = data_generator(train_descriptions, encoding_train, word_to_idx, max_len, number_photos_per_batch)\n",
        "\n",
        "model.fit(mytraingen,steps_per_epoch=steps,epochs = epochs)\n",
        "#model.save(\"best_model1.h5\") \n"
      ],
      "execution_count": null,
      "outputs": []
    },
    {
      "cell_type": "code",
      "metadata": {
        "id": "BKOCgzj-9lvb",
        "colab_type": "code",
        "colab": {}
      },
      "source": [
        "model.save( filepath=\"/content/drive/My Drive/AI/Projects/Image captioning/Model/best_model.h5\") "
      ],
      "execution_count": null,
      "outputs": []
    },
    {
      "cell_type": "code",
      "metadata": {
        "id": "RTTQL0-BNwH4",
        "colab_type": "code",
        "colab": {}
      },
      "source": [
        "#model.save_weights(\"/content/drive/My Drive/Weights/weights1.h5\") "
      ],
      "execution_count": null,
      "outputs": []
    },
    {
      "cell_type": "code",
      "metadata": {
        "id": "MYmIhBORskk7",
        "colab_type": "code",
        "colab": {}
      },
      "source": [
        "epochs = 20\n",
        "number_photos_per_batch = 3\n",
        "steps = len(train_descriptions)//number_photos_per_batch\n",
        "\n",
        "mytraingen = data_generator(train_descriptions, encoding_train, word_to_idx, max_len, number_photos_per_batch)\n",
        "\n",
        "model.fit(mytraingen,steps_per_epoch=steps,epochs = epochs)\n",
        "model.save(filepath=\"/content/drive/My Drive/AI/Projects/Image captioning/Model/best_model1.h5\") "
      ],
      "execution_count": null,
      "outputs": []
    },
    {
      "cell_type": "code",
      "metadata": {
        "id": "hrQmdcDbwfkt",
        "colab_type": "code",
        "colab": {}
      },
      "source": [
        "epochs = 10\n",
        "number_photos_per_batch = 3\n",
        "steps = len(train_descriptions)//number_photos_per_batch\n",
        "\n",
        "mytraingen = data_generator(train_descriptions, encoding_train, word_to_idx, max_len, number_photos_per_batch)\n",
        "\n",
        "model.fit(mytraingen,steps_per_epoch=steps,epochs = epochs)\n",
        "#model.save(\"best_model1.h5\") "
      ],
      "execution_count": null,
      "outputs": []
    },
    {
      "cell_type": "code",
      "metadata": {
        "id": "p3fOzOQ7wb1o",
        "colab_type": "code",
        "colab": {}
      },
      "source": [
        "model.save_weights(\"/content/drive/My Drive/AI/Projects/Image captioning/Weights/weights2.h5\") "
      ],
      "execution_count": null,
      "outputs": []
    },
    {
      "cell_type": "code",
      "metadata": {
        "id": "0BW2VatATA2y",
        "colab_type": "code",
        "colab": {}
      },
      "source": [
        "def predict(photo_enc,model):\n",
        "    in_text = \"<startseq>\"\n",
        "    \n",
        "    for i in range(max_len):\n",
        "        sequence = [word_to_idx[word] for word in in_text.split() if word in word_to_idx]\n",
        "        #print(sequence)\n",
        "        sequence = pad_sequences([sequence], maxlen=max_len, padding='post')\n",
        "        \n",
        "        y_pred = model.predict([photo_enc, sequence])\n",
        "        y_pred = np.argmax(y_pred)\n",
        "        word = idx_to_word[y_pred]\n",
        "        \n",
        "        in_text += \" \"+word\n",
        "        \n",
        "        if word == '<endseq>':\n",
        "            break\n",
        "        \n",
        "        \n",
        "    final_caption = in_text.split()\n",
        "    final_caption = final_caption[1:-1]\n",
        "    final_caption = \" \".join(final_caption)\n",
        "    return final_caption"
      ],
      "execution_count": null,
      "outputs": []
    },
    {
      "cell_type": "code",
      "metadata": {
        "id": "PjVrrXk_WSIW",
        "colab_type": "code",
        "colab": {}
      },
      "source": [
        "#in_text = \"<startseq>\"\n",
        "#for i in range(max_len):\n",
        "        #sequence = [word_to_idx[word] for word in in_text.split() if word in word_to_idx]\n",
        "        #print(sequence)\n",
        "        #sequence = pad_sequences([sequence], maxlen=max_len, padding='post')\n",
        "#print(sequence)        "
      ],
      "execution_count": null,
      "outputs": []
    },
    {
      "cell_type": "code",
      "metadata": {
        "id": "tw95jqRNWpFz",
        "colab_type": "code",
        "colab": {}
      },
      "source": [
        "#print(word_to_idx['<startseq>'])"
      ],
      "execution_count": null,
      "outputs": []
    },
    {
      "cell_type": "code",
      "metadata": {
        "id": "pjHcPIrPNRZr",
        "colab_type": "code",
        "colab": {}
      },
      "source": [
        "model=load_model('/content/drive/My Drive/AI/Projects/Image captioning/Model/best_model6.h5')\n",
        "model1=load_model('/content/drive/My Drive/AI/Projects/Image captioning/Model/best_model350.h5')\n",
        "model2=load_model('/content/drive/My Drive/AI/Projects/Image captioning/Model/best_model7.h5')"
      ],
      "execution_count": null,
      "outputs": []
    },
    {
      "cell_type": "code",
      "metadata": {
        "id": "whS6aJ5LTDT-",
        "colab_type": "code",
        "colab": {}
      },
      "source": [
        "for rn in range(50):\n",
        " img_id = list(encoding_test.keys())[rn]\n",
        "\n",
        " photo_enc = encoding_test[img_id].reshape((1,2048))\n",
        " pred = predict(photo_enc,model1)\n",
        " pred1 = predict(photo_enc,model)\n",
        " pred2 = predict(photo_enc,model2)\n",
        "\n",
        " print('1 '+pred)\n",
        " print('2 '+pred1)\n",
        " print('3 '+pred2)\n",
        "\n",
        " path = images + img_id\n",
        " img = plt.imread(path)\n",
        " plt.imshow(img)\n",
        " plt.show()"
      ],
      "execution_count": null,
      "outputs": []
    },
    {
      "cell_type": "code",
      "metadata": {
        "id": "CrxHQ9oedqyu",
        "colab_type": "code",
        "colab": {}
      },
      "source": [
        ""
      ],
      "execution_count": null,
      "outputs": []
    },
    {
      "cell_type": "code",
      "metadata": {
        "id": "9zSr841LdrXx",
        "colab_type": "code",
        "colab": {}
      },
      "source": [
        ""
      ],
      "execution_count": null,
      "outputs": []
    },
    {
      "cell_type": "code",
      "metadata": {
        "id": "pEL8DbFrdrwH",
        "colab_type": "code",
        "colab": {}
      },
      "source": [
        ""
      ],
      "execution_count": null,
      "outputs": []
    },
    {
      "cell_type": "code",
      "metadata": {
        "id": "h33wf3-5drJm",
        "colab_type": "code",
        "colab": {}
      },
      "source": [
        ""
      ],
      "execution_count": null,
      "outputs": []
    },
    {
      "cell_type": "code",
      "metadata": {
        "id": "jR48jHBYdqjc",
        "colab_type": "code",
        "colab": {}
      },
      "source": [
        ""
      ],
      "execution_count": null,
      "outputs": []
    },
    {
      "cell_type": "code",
      "metadata": {
        "id": "2AtQqXIsNfGL",
        "colab_type": "code",
        "colab": {}
      },
      "source": [
        ""
      ],
      "execution_count": null,
      "outputs": []
    },
    {
      "cell_type": "code",
      "metadata": {
        "id": "bLfiOEVjNfV5",
        "colab_type": "code",
        "colab": {}
      },
      "source": [
        ""
      ],
      "execution_count": null,
      "outputs": []
    },
    {
      "cell_type": "code",
      "metadata": {
        "id": "o5yUg1P4Nfcq",
        "colab_type": "code",
        "colab": {}
      },
      "source": [
        ""
      ],
      "execution_count": null,
      "outputs": []
    },
    {
      "cell_type": "code",
      "metadata": {
        "id": "txwYrfxANfgy",
        "colab_type": "code",
        "colab": {}
      },
      "source": [
        ""
      ],
      "execution_count": null,
      "outputs": []
    },
    {
      "cell_type": "code",
      "metadata": {
        "id": "2jn9_j8rNfq-",
        "colab_type": "code",
        "colab": {}
      },
      "source": [
        ""
      ],
      "execution_count": null,
      "outputs": []
    },
    {
      "cell_type": "code",
      "metadata": {
        "id": "OI5K5XRYNfza",
        "colab_type": "code",
        "colab": {}
      },
      "source": [
        ""
      ],
      "execution_count": null,
      "outputs": []
    },
    {
      "cell_type": "code",
      "metadata": {
        "id": "Ltqh7pfFNf80",
        "colab_type": "code",
        "colab": {}
      },
      "source": [
        ""
      ],
      "execution_count": null,
      "outputs": []
    },
    {
      "cell_type": "code",
      "metadata": {
        "id": "VrIoddaUNgA9",
        "colab_type": "code",
        "colab": {}
      },
      "source": [
        ""
      ],
      "execution_count": null,
      "outputs": []
    },
    {
      "cell_type": "code",
      "metadata": {
        "id": "3uie-chMNgHM",
        "colab_type": "code",
        "colab": {}
      },
      "source": [
        ""
      ],
      "execution_count": null,
      "outputs": []
    },
    {
      "cell_type": "code",
      "metadata": {
        "id": "-FNRCfp1NgNc",
        "colab_type": "code",
        "colab": {}
      },
      "source": [
        ""
      ],
      "execution_count": null,
      "outputs": []
    },
    {
      "cell_type": "code",
      "metadata": {
        "id": "Q9-9U4TmNgTp",
        "colab_type": "code",
        "colab": {}
      },
      "source": [
        ""
      ],
      "execution_count": null,
      "outputs": []
    },
    {
      "cell_type": "code",
      "metadata": {
        "id": "NkWtgkreNgfA",
        "colab_type": "code",
        "colab": {}
      },
      "source": [
        ""
      ],
      "execution_count": null,
      "outputs": []
    },
    {
      "cell_type": "code",
      "metadata": {
        "id": "gisfGtlONgq0",
        "colab_type": "code",
        "colab": {}
      },
      "source": [
        ""
      ],
      "execution_count": null,
      "outputs": []
    },
    {
      "cell_type": "code",
      "metadata": {
        "id": "o1Atx9KCNgxp",
        "colab_type": "code",
        "colab": {}
      },
      "source": [
        ""
      ],
      "execution_count": null,
      "outputs": []
    },
    {
      "cell_type": "code",
      "metadata": {
        "id": "JqfWNiLmNgvL",
        "colab_type": "code",
        "colab": {}
      },
      "source": [
        ""
      ],
      "execution_count": null,
      "outputs": []
    },
    {
      "cell_type": "code",
      "metadata": {
        "id": "tnX_1NAMNgn9",
        "colab_type": "code",
        "colab": {}
      },
      "source": [
        ""
      ],
      "execution_count": null,
      "outputs": []
    },
    {
      "cell_type": "code",
      "metadata": {
        "id": "NKdhJCJrNglV",
        "colab_type": "code",
        "colab": {}
      },
      "source": [
        ""
      ],
      "execution_count": null,
      "outputs": []
    },
    {
      "cell_type": "code",
      "metadata": {
        "id": "7I6rqE-dNgi4",
        "colab_type": "code",
        "colab": {}
      },
      "source": [
        ""
      ],
      "execution_count": null,
      "outputs": []
    },
    {
      "cell_type": "code",
      "metadata": {
        "id": "rYslFOarNgco",
        "colab_type": "code",
        "colab": {}
      },
      "source": [
        ""
      ],
      "execution_count": null,
      "outputs": []
    },
    {
      "cell_type": "code",
      "metadata": {
        "id": "6g-gPxDyNgaD",
        "colab_type": "code",
        "colab": {}
      },
      "source": [
        ""
      ],
      "execution_count": null,
      "outputs": []
    },
    {
      "cell_type": "code",
      "metadata": {
        "id": "ZuFO8IxRNgXu",
        "colab_type": "code",
        "colab": {}
      },
      "source": [
        ""
      ],
      "execution_count": null,
      "outputs": []
    },
    {
      "cell_type": "code",
      "metadata": {
        "id": "HBYFW2q2NgRb",
        "colab_type": "code",
        "colab": {}
      },
      "source": [
        ""
      ],
      "execution_count": null,
      "outputs": []
    },
    {
      "cell_type": "code",
      "metadata": {
        "id": "0s-zfIXxNgLF",
        "colab_type": "code",
        "colab": {}
      },
      "source": [
        ""
      ],
      "execution_count": null,
      "outputs": []
    },
    {
      "cell_type": "code",
      "metadata": {
        "id": "oJYOPvRWNgEp",
        "colab_type": "code",
        "colab": {}
      },
      "source": [
        ""
      ],
      "execution_count": null,
      "outputs": []
    },
    {
      "cell_type": "code",
      "metadata": {
        "id": "8MbJuVGXNf6R",
        "colab_type": "code",
        "colab": {}
      },
      "source": [
        ""
      ],
      "execution_count": null,
      "outputs": []
    },
    {
      "cell_type": "code",
      "metadata": {
        "id": "ftBGB-1nNf3f",
        "colab_type": "code",
        "colab": {}
      },
      "source": [
        ""
      ],
      "execution_count": null,
      "outputs": []
    },
    {
      "cell_type": "code",
      "metadata": {
        "id": "8-wtPlQPNfwy",
        "colab_type": "code",
        "colab": {}
      },
      "source": [
        ""
      ],
      "execution_count": null,
      "outputs": []
    },
    {
      "cell_type": "code",
      "metadata": {
        "id": "QqeUeWbvNfuq",
        "colab_type": "code",
        "colab": {}
      },
      "source": [
        ""
      ],
      "execution_count": null,
      "outputs": []
    },
    {
      "cell_type": "code",
      "metadata": {
        "id": "cLhdv9GrNfoR",
        "colab_type": "code",
        "colab": {}
      },
      "source": [
        ""
      ],
      "execution_count": null,
      "outputs": []
    },
    {
      "cell_type": "code",
      "metadata": {
        "id": "DZ9vt-O9Nfkl",
        "colab_type": "code",
        "colab": {}
      },
      "source": [
        ""
      ],
      "execution_count": null,
      "outputs": []
    },
    {
      "cell_type": "code",
      "metadata": {
        "id": "aMa9iV8_bQKj",
        "colab_type": "code",
        "colab": {}
      },
      "source": [
        "#model=load_model('/content/drive/My Drive/AI/Projects/Image captioning/Model/best_model6.h5')\n"
      ],
      "execution_count": null,
      "outputs": []
    },
    {
      "cell_type": "code",
      "metadata": {
        "id": "PlzTxAB0bQ46",
        "colab_type": "code",
        "colab": {}
      },
      "source": [
        "#epochs = 5\n",
        "#number_photos_per_batch = 3\n",
        "#steps = len(train_descriptions)//number_photos_per_batch\n",
        "\n",
        "#mytraingen = data_generator(train_descriptions, encoding_train, word_to_idx, max_len, number_photos_per_batch)\n",
        "\n",
        "#model.fit(mytraingen,steps_per_epoch=steps,epochs = epochs)"
      ],
      "execution_count": null,
      "outputs": []
    },
    {
      "cell_type": "code",
      "metadata": {
        "id": "RJbjt3Dyfk7c",
        "colab_type": "code",
        "colab": {}
      },
      "source": [
        "#epochs = 150\n",
        "#number_photos_per_batch = 3\n",
        "#steps = len(train_descriptions)//number_photos_per_batch\n",
        "\n",
        "#mytraingen = data_generator(train_descriptions, encoding_train, word_to_idx, max_len, number_photos_per_batch)\n",
        "\n",
        "#model.fit(mytraingen,steps_per_epoch=steps,epochs = epochs)\n",
        "#model.save_weights(\"/content/drive/My Drive/AI/Projects/Image captioning/Weights/weights\"+str(20)+ \".h5\")\n",
        "        \n",
        "       "
      ],
      "execution_count": null,
      "outputs": []
    },
    {
      "cell_type": "code",
      "metadata": {
        "id": "CGN6zUJuyzRY",
        "colab_type": "code",
        "colab": {}
      },
      "source": [
        "m#odel.save( filepath=\"/content/drive/My Drive/AI/Projects/Image captioning/Model/best_model350.h5\") "
      ],
      "execution_count": null,
      "outputs": []
    },
    {
      "cell_type": "code",
      "metadata": {
        "id": "uRSVFywQB3Q5",
        "colab_type": "code",
        "colab": {}
      },
      "source": [
        ""
      ],
      "execution_count": null,
      "outputs": []
    },
    {
      "cell_type": "code",
      "metadata": {
        "id": "nxOEt6UnbRTY",
        "colab_type": "code",
        "colab": {}
      },
      "source": [
        ""
      ],
      "execution_count": null,
      "outputs": []
    },
    {
      "cell_type": "code",
      "metadata": {
        "id": "_W3UR4AbM9tb",
        "colab_type": "code",
        "colab": {}
      },
      "source": [
        ""
      ],
      "execution_count": null,
      "outputs": []
    },
    {
      "cell_type": "code",
      "metadata": {
        "id": "Vd69WSBtM9_D",
        "colab_type": "code",
        "colab": {}
      },
      "source": [
        ""
      ],
      "execution_count": null,
      "outputs": []
    },
    {
      "cell_type": "code",
      "metadata": {
        "id": "Q5TjYEJCM-Hp",
        "colab_type": "code",
        "colab": {}
      },
      "source": [
        ""
      ],
      "execution_count": null,
      "outputs": []
    },
    {
      "cell_type": "code",
      "metadata": {
        "id": "REwAbnOlM-Nq",
        "colab_type": "code",
        "colab": {}
      },
      "source": [
        ""
      ],
      "execution_count": null,
      "outputs": []
    },
    {
      "cell_type": "code",
      "metadata": {
        "id": "FQw63GY5M-T7",
        "colab_type": "code",
        "colab": {}
      },
      "source": [
        ""
      ],
      "execution_count": null,
      "outputs": []
    },
    {
      "cell_type": "code",
      "metadata": {
        "id": "7KbxPtnPVqIn",
        "colab_type": "code",
        "colab": {}
      },
      "source": [
        "#sequence = pad_sequences([1], maxlen=35, padding='post')\n",
        "#y_pred = model.predict([photo_enc, sequence])"
      ],
      "execution_count": null,
      "outputs": []
    },
    {
      "cell_type": "code",
      "metadata": {
        "id": "V7-xg7XwVqhm",
        "colab_type": "code",
        "colab": {}
      },
      "source": [
        ""
      ],
      "execution_count": null,
      "outputs": []
    },
    {
      "cell_type": "code",
      "metadata": {
        "id": "uOJMptyMVnpQ",
        "colab_type": "code",
        "colab": {}
      },
      "source": [
        ""
      ],
      "execution_count": null,
      "outputs": []
    },
    {
      "cell_type": "code",
      "metadata": {
        "id": "eUO-G5x06yy-",
        "colab_type": "code",
        "colab": {}
      },
      "source": [
        "#epochs = 20\n",
        "#number_photos_per_batch = 3\n",
        "#steps = len(train_descriptions)//number_photos_per_batch\n",
        "\n",
        "#mytraingen = data_generator(train_descriptions, encoding_train, word_to_idx, max_len, number_photos_per_batch)\n",
        "\n",
        "#model.fit(mytraingen,steps_per_epoch=steps,epochs = epochs)"
      ],
      "execution_count": null,
      "outputs": []
    },
    {
      "cell_type": "code",
      "metadata": {
        "id": "pu0RXYMi7Djz",
        "colab_type": "code",
        "colab": {}
      },
      "source": [
        "#model.save(\"best_model5.h5\") "
      ],
      "execution_count": null,
      "outputs": []
    },
    {
      "cell_type": "code",
      "metadata": {
        "id": "UPtSsbeE6zLr",
        "colab_type": "code",
        "colab": {}
      },
      "source": [
        "#model.save_weights(\"/content/drive/My Drive/Weights/weights5.h5\") "
      ],
      "execution_count": null,
      "outputs": []
    },
    {
      "cell_type": "code",
      "metadata": {
        "id": "ypXLm71mRUNa",
        "colab_type": "code",
        "colab": {}
      },
      "source": [
        "#model.load_weights('/content/drive/My Drive/Weights/weights1.h5')"
      ],
      "execution_count": null,
      "outputs": []
    },
    {
      "cell_type": "code",
      "metadata": {
        "id": "7avFU-bYR2FU",
        "colab_type": "code",
        "colab": {}
      },
      "source": [
        "#model.compile(optimizer='adam',loss='categorical_crossentropy')"
      ],
      "execution_count": null,
      "outputs": []
    },
    {
      "cell_type": "code",
      "metadata": {
        "id": "DpW8LYD6VyzR",
        "colab_type": "code",
        "colab": {}
      },
      "source": [
        ""
      ],
      "execution_count": null,
      "outputs": []
    },
    {
      "cell_type": "code",
      "metadata": {
        "id": "3AeP-LESVyw7",
        "colab_type": "code",
        "colab": {}
      },
      "source": [
        ""
      ],
      "execution_count": null,
      "outputs": []
    },
    {
      "cell_type": "code",
      "metadata": {
        "id": "gFd9HNw0Vyth",
        "colab_type": "code",
        "colab": {}
      },
      "source": [
        ""
      ],
      "execution_count": null,
      "outputs": []
    },
    {
      "cell_type": "code",
      "metadata": {
        "id": "xsCuTCv1Vyp-",
        "colab_type": "code",
        "colab": {}
      },
      "source": [
        ""
      ],
      "execution_count": null,
      "outputs": []
    }
  ]
}